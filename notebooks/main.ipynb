{
  "nbformat": 4,
  "nbformat_minor": 0,
  "metadata": {
    "colab": {
      "provenance": []
    },
    "kernelspec": {
      "name": "python3",
      "display_name": "Python 3"
    },
    "language_info": {
      "name": "python"
    }
  },
  "cells": [
    {
      "cell_type": "code",
      "execution_count": null,
      "metadata": {
        "id": "xDKurLF-TNva",
        "colab": {
          "base_uri": "https://localhost:8080/"
        },
        "outputId": "4e864a91-695d-439b-a338-11c65db4412f"
      },
      "outputs": [
        {
          "output_type": "stream",
          "name": "stdout",
          "text": [
            "Looking in indexes: https://pypi.org/simple, https://us-python.pkg.dev/colab-wheels/public/simple/\n",
            "Collecting python-terrier\n",
            "  Downloading python-terrier-0.9.2.tar.gz (104 kB)\n",
            "\u001b[2K     \u001b[90m━━━━━━━━━━━━━━━━━━━━━━━━━━━━━━━━━━━━━━━\u001b[0m \u001b[32m104.4/104.4 kB\u001b[0m \u001b[31m2.5 MB/s\u001b[0m eta \u001b[36m0:00:00\u001b[0m\n",
            "\u001b[?25h  Preparing metadata (setup.py) ... \u001b[?25l\u001b[?25hdone\n",
            "Requirement already satisfied: numpy in /usr/local/lib/python3.9/dist-packages (from python-terrier) (1.22.4)\n",
            "Requirement already satisfied: pandas in /usr/local/lib/python3.9/dist-packages (from python-terrier) (1.5.3)\n",
            "Collecting wget\n",
            "  Downloading wget-3.2.zip (10 kB)\n",
            "  Preparing metadata (setup.py) ... \u001b[?25l\u001b[?25hdone\n",
            "Requirement already satisfied: tqdm in /usr/local/lib/python3.9/dist-packages (from python-terrier) (4.65.0)\n",
            "Collecting pyjnius>=1.4.2\n",
            "  Downloading pyjnius-1.4.2-cp39-cp39-manylinux_2_17_x86_64.manylinux2014_x86_64.whl (1.5 MB)\n",
            "\u001b[2K     \u001b[90m━━━━━━━━━━━━━━━━━━━━━━━━━━━━━━━━━━━━━━━━\u001b[0m \u001b[32m1.5/1.5 MB\u001b[0m \u001b[31m37.7 MB/s\u001b[0m eta \u001b[36m0:00:00\u001b[0m\n",
            "\u001b[?25hCollecting matchpy\n",
            "  Downloading matchpy-0.5.5-py3-none-any.whl (69 kB)\n",
            "\u001b[2K     \u001b[90m━━━━━━━━━━━━━━━━━━━━━━━━━━━━━━━━━━━━━━━━\u001b[0m \u001b[32m69.6/69.6 kB\u001b[0m \u001b[31m3.7 MB/s\u001b[0m eta \u001b[36m0:00:00\u001b[0m\n",
            "\u001b[?25hRequirement already satisfied: scikit-learn in /usr/local/lib/python3.9/dist-packages (from python-terrier) (1.2.2)\n",
            "Collecting deprecated\n",
            "  Downloading Deprecated-1.2.13-py2.py3-none-any.whl (9.6 kB)\n",
            "Collecting chest\n",
            "  Downloading chest-0.2.3.tar.gz (9.6 kB)\n",
            "  Preparing metadata (setup.py) ... \u001b[?25l\u001b[?25hdone\n",
            "Requirement already satisfied: scipy in /usr/local/lib/python3.9/dist-packages (from python-terrier) (1.10.1)\n",
            "Requirement already satisfied: requests in /usr/local/lib/python3.9/dist-packages (from python-terrier) (2.27.1)\n",
            "Requirement already satisfied: joblib in /usr/local/lib/python3.9/dist-packages (from python-terrier) (1.2.0)\n",
            "Collecting nptyping==1.4.4\n",
            "  Downloading nptyping-1.4.4-py3-none-any.whl (31 kB)\n",
            "Requirement already satisfied: more_itertools in /usr/local/lib/python3.9/dist-packages (from python-terrier) (9.1.0)\n",
            "Collecting ir_datasets>=0.3.2\n",
            "  Downloading ir_datasets-0.5.4-py3-none-any.whl (311 kB)\n",
            "\u001b[2K     \u001b[90m━━━━━━━━━━━━━━━━━━━━━━━━━━━━━━━━━━━━━━\u001b[0m \u001b[32m311.5/311.5 kB\u001b[0m \u001b[31m15.8 MB/s\u001b[0m eta \u001b[36m0:00:00\u001b[0m\n",
            "\u001b[?25hRequirement already satisfied: jinja2 in /usr/local/lib/python3.9/dist-packages (from python-terrier) (3.1.2)\n",
            "Requirement already satisfied: statsmodels in /usr/local/lib/python3.9/dist-packages (from python-terrier) (0.13.5)\n",
            "Collecting ir_measures>=0.3.1\n",
            "  Downloading ir_measures-0.3.1.tar.gz (46 kB)\n",
            "\u001b[2K     \u001b[90m━━━━━━━━━━━━━━━━━━━━━━━━━━━━━━━━━━━━━━━━\u001b[0m \u001b[32m46.5/46.5 kB\u001b[0m \u001b[31m2.0 MB/s\u001b[0m eta \u001b[36m0:00:00\u001b[0m\n",
            "\u001b[?25h  Preparing metadata (setup.py) ... \u001b[?25l\u001b[?25hdone\n",
            "Collecting dill\n",
            "  Downloading dill-0.3.6-py3-none-any.whl (110 kB)\n",
            "\u001b[2K     \u001b[90m━━━━━━━━━━━━━━━━━━━━━━━━━━━━━━━━━━━━━━━\u001b[0m \u001b[32m110.5/110.5 kB\u001b[0m \u001b[31m4.4 MB/s\u001b[0m eta \u001b[36m0:00:00\u001b[0m\n",
            "\u001b[?25hCollecting pytrec_eval_terrier>=0.5.3\n",
            "  Downloading pytrec_eval_terrier-0.5.5-cp39-cp39-manylinux_2_17_x86_64.manylinux2014_x86_64.whl (287 kB)\n",
            "\u001b[2K     \u001b[90m━━━━━━━━━━━━━━━━━━━━━━━━━━━━━━━━━━━━━━━\u001b[0m \u001b[32m287.2/287.2 kB\u001b[0m \u001b[31m3.6 MB/s\u001b[0m eta \u001b[36m0:00:00\u001b[0m\n",
            "\u001b[?25hCollecting typish>=1.7.0\n",
            "  Downloading typish-1.9.3-py3-none-any.whl (45 kB)\n",
            "\u001b[2K     \u001b[90m━━━━━━━━━━━━━━━━━━━━━━━━━━━━━━━━━━━━━━━━\u001b[0m \u001b[32m45.1/45.1 kB\u001b[0m \u001b[31m1.5 MB/s\u001b[0m eta \u001b[36m0:00:00\u001b[0m\n",
            "\u001b[?25hRequirement already satisfied: pyyaml>=5.3.1 in /usr/local/lib/python3.9/dist-packages (from ir_datasets>=0.3.2->python-terrier) (6.0)\n",
            "Collecting trec-car-tools>=2.5.4\n",
            "  Downloading trec_car_tools-2.6-py3-none-any.whl (8.4 kB)\n",
            "Requirement already satisfied: beautifulsoup4>=4.4.1 in /usr/local/lib/python3.9/dist-packages (from ir_datasets>=0.3.2->python-terrier) (4.11.2)\n",
            "Collecting lz4>=3.1.1\n",
            "  Downloading lz4-4.3.2-cp39-cp39-manylinux_2_17_x86_64.manylinux2014_x86_64.whl (1.3 MB)\n",
            "\u001b[2K     \u001b[90m━━━━━━━━━━━━━━━━━━━━━━━━━━━━━━━━━━━━━━━━\u001b[0m \u001b[32m1.3/1.3 MB\u001b[0m \u001b[31m32.1 MB/s\u001b[0m eta \u001b[36m0:00:00\u001b[0m\n",
            "\u001b[?25hCollecting pyautocorpus>=0.1.1\n",
            "  Downloading pyautocorpus-0.1.9-cp39-cp39-manylinux_2_12_x86_64.manylinux2010_x86_64.whl (293 kB)\n",
            "\u001b[2K     \u001b[90m━━━━━━━━━━━━━━━━━━━━━━━━━━━━━━━━━━━━━━\u001b[0m \u001b[32m293.3/293.3 kB\u001b[0m \u001b[31m13.1 MB/s\u001b[0m eta \u001b[36m0:00:00\u001b[0m\n",
            "\u001b[?25hCollecting zlib-state>=0.1.3\n",
            "  Downloading zlib_state-0.1.5-cp39-cp39-manylinux2010_x86_64.whl (71 kB)\n",
            "\u001b[2K     \u001b[90m━━━━━━━━━━━━━━━━━━━━━━━━━━━━━━━━━━━━━━━━\u001b[0m \u001b[32m72.0/72.0 kB\u001b[0m \u001b[31m2.9 MB/s\u001b[0m eta \u001b[36m0:00:00\u001b[0m\n",
            "\u001b[?25hCollecting ijson>=3.1.3\n",
            "  Downloading ijson-3.2.0.post0-cp39-cp39-manylinux_2_17_x86_64.manylinux2014_x86_64.whl (112 kB)\n",
            "\u001b[2K     \u001b[90m━━━━━━━━━━━━━━━━━━━━━━━━━━━━━━━━━━━━━━━\u001b[0m \u001b[32m112.5/112.5 kB\u001b[0m \u001b[31m2.5 MB/s\u001b[0m eta \u001b[36m0:00:00\u001b[0m\n",
            "\u001b[?25hRequirement already satisfied: lxml>=4.5.2 in /usr/local/lib/python3.9/dist-packages (from ir_datasets>=0.3.2->python-terrier) (4.9.2)\n",
            "Collecting warc3-wet>=0.2.3\n",
            "  Downloading warc3_wet-0.2.3-py3-none-any.whl (13 kB)\n",
            "Collecting unlzw3>=0.2.1\n",
            "  Downloading unlzw3-0.2.2-py3-none-any.whl (6.1 kB)\n",
            "Collecting warc3-wet-clueweb09>=0.2.5\n",
            "  Downloading warc3-wet-clueweb09-0.2.5.tar.gz (17 kB)\n",
            "  Preparing metadata (setup.py) ... \u001b[?25l\u001b[?25hdone\n",
            "Collecting cwl-eval>=1.0.10\n",
            "  Downloading cwl-eval-1.0.12.tar.gz (31 kB)\n",
            "  Preparing metadata (setup.py) ... \u001b[?25l\u001b[?25hdone\n",
            "Requirement already satisfied: six>=1.7.0 in /usr/local/lib/python3.9/dist-packages (from pyjnius>=1.4.2->python-terrier) (1.16.0)\n",
            "Requirement already satisfied: charset-normalizer~=2.0.0 in /usr/local/lib/python3.9/dist-packages (from requests->python-terrier) (2.0.12)\n",
            "Requirement already satisfied: urllib3<1.27,>=1.21.1 in /usr/local/lib/python3.9/dist-packages (from requests->python-terrier) (1.26.15)\n",
            "Requirement already satisfied: idna<4,>=2.5 in /usr/local/lib/python3.9/dist-packages (from requests->python-terrier) (3.4)\n",
            "Requirement already satisfied: certifi>=2017.4.17 in /usr/local/lib/python3.9/dist-packages (from requests->python-terrier) (2022.12.7)\n",
            "Requirement already satisfied: heapdict in /usr/local/lib/python3.9/dist-packages (from chest->python-terrier) (1.0.1)\n",
            "Requirement already satisfied: wrapt<2,>=1.10 in /usr/local/lib/python3.9/dist-packages (from deprecated->python-terrier) (1.14.1)\n",
            "Requirement already satisfied: MarkupSafe>=2.0 in /usr/local/lib/python3.9/dist-packages (from jinja2->python-terrier) (2.1.2)\n",
            "Collecting multiset<3.0,>=2.0\n",
            "  Downloading multiset-2.1.1-py2.py3-none-any.whl (8.8 kB)\n",
            "Requirement already satisfied: python-dateutil>=2.8.1 in /usr/local/lib/python3.9/dist-packages (from pandas->python-terrier) (2.8.2)\n",
            "Requirement already satisfied: pytz>=2020.1 in /usr/local/lib/python3.9/dist-packages (from pandas->python-terrier) (2022.7.1)\n",
            "Requirement already satisfied: threadpoolctl>=2.0.0 in /usr/local/lib/python3.9/dist-packages (from scikit-learn->python-terrier) (3.1.0)\n",
            "Requirement already satisfied: patsy>=0.5.2 in /usr/local/lib/python3.9/dist-packages (from statsmodels->python-terrier) (0.5.3)\n",
            "Requirement already satisfied: packaging>=21.3 in /usr/local/lib/python3.9/dist-packages (from statsmodels->python-terrier) (23.1)\n",
            "Requirement already satisfied: soupsieve>1.2 in /usr/local/lib/python3.9/dist-packages (from beautifulsoup4>=4.4.1->ir_datasets>=0.3.2->python-terrier) (2.4.1)\n",
            "Collecting cbor>=1.0.0\n",
            "  Downloading cbor-1.0.0.tar.gz (20 kB)\n",
            "  Preparing metadata (setup.py) ... \u001b[?25l\u001b[?25hdone\n",
            "Building wheels for collected packages: python-terrier, ir_measures, chest, wget, cwl-eval, warc3-wet-clueweb09, cbor\n",
            "  Building wheel for python-terrier (setup.py) ... \u001b[?25l\u001b[?25hdone\n",
            "  Created wheel for python-terrier: filename=python_terrier-0.9.2-py3-none-any.whl size=112280 sha256=6838c0991051fbdd60f02e2293ff01783ec9360c74f7f4fd93152606a3b6bd6d\n",
            "  Stored in directory: /root/.cache/pip/wheels/0c/4d/40/9d00263171f82fe37049a60e70a88279ce025c0229110153d4\n",
            "  Building wheel for ir_measures (setup.py) ... \u001b[?25l\u001b[?25hdone\n",
            "  Created wheel for ir_measures: filename=ir_measures-0.3.1-py3-none-any.whl size=60184 sha256=40578f59d99470fe2cc3c4967bdc7fd0aa6baf8a68ac911003879596bd120be4\n",
            "  Stored in directory: /root/.cache/pip/wheels/00/fa/7d/0ba22fce7d11d69df68c31b7c247fbbb28fe2d4c610f8c653f\n",
            "  Building wheel for chest (setup.py) ... \u001b[?25l\u001b[?25hdone\n",
            "  Created wheel for chest: filename=chest-0.2.3-py3-none-any.whl size=7632 sha256=9801aa5e597391777c8defe0a8e68b91090a38851091f879666ca46f73877acd\n",
            "  Stored in directory: /root/.cache/pip/wheels/ce/05/8e/2ecd3728ed5d938ee57161c8acf2ee74f55f894964bb3d31ef\n",
            "  Building wheel for wget (setup.py) ... \u001b[?25l\u001b[?25hdone\n",
            "  Created wheel for wget: filename=wget-3.2-py3-none-any.whl size=9676 sha256=4164b2a1923e9523413b6434706d10123ad37a731aae6cf1b35be769604a9cd6\n",
            "  Stored in directory: /root/.cache/pip/wheels/04/5f/3e/46cc37c5d698415694d83f607f833f83f0149e49b3af9d0f38\n",
            "  Building wheel for cwl-eval (setup.py) ... \u001b[?25l\u001b[?25hdone\n",
            "  Created wheel for cwl-eval: filename=cwl_eval-1.0.12-py3-none-any.whl size=38083 sha256=a6c857bc3ef4e28710ba67d70d31beff071a6601601d2335403f0aef802aa416\n",
            "  Stored in directory: /root/.cache/pip/wheels/0e/52/dc/9d448ff093ccae9b248a41b265d31e2c930eea2d0e84aa29e0\n",
            "  Building wheel for warc3-wet-clueweb09 (setup.py) ... \u001b[?25l\u001b[?25hdone\n",
            "  Created wheel for warc3-wet-clueweb09: filename=warc3_wet_clueweb09-0.2.5-py3-none-any.whl size=18918 sha256=ae33bdbd70e87781fe9a022ed662d49794efd3b67983bcbf329ea30b2587f4ce\n",
            "  Stored in directory: /root/.cache/pip/wheels/7f/22/ed/a11944d7fdf4e94c4206a3f760d385122a4d34d8acc12f71a3\n",
            "  Building wheel for cbor (setup.py) ... \u001b[?25l\u001b[?25hdone\n",
            "  Created wheel for cbor: filename=cbor-1.0.0-cp39-cp39-linux_x86_64.whl size=57299 sha256=83684858df6e2ceae0f60969166e6071cb24044c9b7ed7e0ae5aa84db0eea44b\n",
            "  Stored in directory: /root/.cache/pip/wheels/ec/10/03/a281e0682ddd4b310431fb25d1a4f53987105267cf46c417f3\n",
            "Successfully built python-terrier ir_measures chest wget cwl-eval warc3-wet-clueweb09 cbor\n",
            "Installing collected packages: wget, warc3-wet-clueweb09, warc3-wet, typish, multiset, ijson, cbor, zlib-state, unlzw3, trec-car-tools, pytrec_eval_terrier, pyjnius, pyautocorpus, nptyping, matchpy, lz4, dill, deprecated, cwl-eval, chest, ir_measures, ir_datasets, python-terrier\n",
            "Successfully installed cbor-1.0.0 chest-0.2.3 cwl-eval-1.0.12 deprecated-1.2.13 dill-0.3.6 ijson-3.2.0.post0 ir_datasets-0.5.4 ir_measures-0.3.1 lz4-4.3.2 matchpy-0.5.5 multiset-2.1.1 nptyping-1.4.4 pyautocorpus-0.1.9 pyjnius-1.4.2 python-terrier-0.9.2 pytrec_eval_terrier-0.5.5 trec-car-tools-2.6 typish-1.9.3 unlzw3-0.2.2 warc3-wet-0.2.3 warc3-wet-clueweb09-0.2.5 wget-3.2 zlib-state-0.1.5\n"
          ]
        }
      ],
      "source": [
        "!pip install python-terrier"
      ]
    },
    {
      "cell_type": "code",
      "source": [
        "!pip install ranx"
      ],
      "metadata": {
        "id": "aoZu8pq_Vik3",
        "colab": {
          "base_uri": "https://localhost:8080/"
        },
        "outputId": "7d9b8457-b27f-444f-dfe4-074796325fbf"
      },
      "execution_count": null,
      "outputs": [
        {
          "output_type": "stream",
          "name": "stdout",
          "text": [
            "Looking in indexes: https://pypi.org/simple, https://us-python.pkg.dev/colab-wheels/public/simple/\n",
            "Collecting ranx\n",
            "  Downloading ranx-0.3.7-py3-none-any.whl (95 kB)\n",
            "\u001b[2K     \u001b[90m━━━━━━━━━━━━━━━━━━━━━━━━━━━━━━━━━━━━━━━━\u001b[0m \u001b[32m95.7/95.7 kB\u001b[0m \u001b[31m6.2 MB/s\u001b[0m eta \u001b[36m0:00:00\u001b[0m\n",
            "\u001b[?25hRequirement already satisfied: tqdm in /usr/local/lib/python3.9/dist-packages (from ranx) (4.65.0)\n",
            "Requirement already satisfied: numpy in /usr/local/lib/python3.9/dist-packages (from ranx) (1.22.4)\n",
            "Requirement already satisfied: ir-datasets in /usr/local/lib/python3.9/dist-packages (from ranx) (0.5.4)\n",
            "Requirement already satisfied: scipy>=1.8.0 in /usr/local/lib/python3.9/dist-packages (from ranx) (1.10.1)\n",
            "Requirement already satisfied: numba>=0.54.1 in /usr/local/lib/python3.9/dist-packages (from ranx) (0.56.4)\n",
            "Requirement already satisfied: tabulate in /usr/local/lib/python3.9/dist-packages (from ranx) (0.8.10)\n",
            "Collecting orjson\n",
            "  Downloading orjson-3.8.10-cp39-cp39-manylinux_2_28_x86_64.whl (140 kB)\n",
            "\u001b[2K     \u001b[90m━━━━━━━━━━━━━━━━━━━━━━━━━━━━━━━━━━━━━━\u001b[0m \u001b[32m140.5/140.5 kB\u001b[0m \u001b[31m10.7 MB/s\u001b[0m eta \u001b[36m0:00:00\u001b[0m\n",
            "\u001b[?25hRequirement already satisfied: rich in /usr/local/lib/python3.9/dist-packages (from ranx) (13.3.4)\n",
            "Requirement already satisfied: lz4 in /usr/local/lib/python3.9/dist-packages (from ranx) (4.3.2)\n",
            "Collecting cbor2\n",
            "  Downloading cbor2-5.4.6-cp39-cp39-manylinux_2_17_x86_64.manylinux2014_x86_64.whl (223 kB)\n",
            "\u001b[2K     \u001b[90m━━━━━━━━━━━━━━━━━━━━━━━━━━━━━━━━━━━━━━\u001b[0m \u001b[32m223.1/223.1 kB\u001b[0m \u001b[31m20.0 MB/s\u001b[0m eta \u001b[36m0:00:00\u001b[0m\n",
            "\u001b[?25hRequirement already satisfied: pandas in /usr/local/lib/python3.9/dist-packages (from ranx) (1.5.3)\n",
            "Requirement already satisfied: llvmlite<0.40,>=0.39.0dev0 in /usr/local/lib/python3.9/dist-packages (from numba>=0.54.1->ranx) (0.39.1)\n",
            "Requirement already satisfied: setuptools in /usr/local/lib/python3.9/dist-packages (from numba>=0.54.1->ranx) (67.6.1)\n",
            "Requirement already satisfied: ijson>=3.1.3 in /usr/local/lib/python3.9/dist-packages (from ir-datasets->ranx) (3.2.0.post0)\n",
            "Requirement already satisfied: warc3-wet>=0.2.3 in /usr/local/lib/python3.9/dist-packages (from ir-datasets->ranx) (0.2.3)\n",
            "Requirement already satisfied: pyyaml>=5.3.1 in /usr/local/lib/python3.9/dist-packages (from ir-datasets->ranx) (6.0)\n",
            "Requirement already satisfied: beautifulsoup4>=4.4.1 in /usr/local/lib/python3.9/dist-packages (from ir-datasets->ranx) (4.11.2)\n",
            "Requirement already satisfied: pyautocorpus>=0.1.1 in /usr/local/lib/python3.9/dist-packages (from ir-datasets->ranx) (0.1.9)\n",
            "Requirement already satisfied: lxml>=4.5.2 in /usr/local/lib/python3.9/dist-packages (from ir-datasets->ranx) (4.9.2)\n",
            "Requirement already satisfied: unlzw3>=0.2.1 in /usr/local/lib/python3.9/dist-packages (from ir-datasets->ranx) (0.2.2)\n",
            "Requirement already satisfied: requests>=2.22.0 in /usr/local/lib/python3.9/dist-packages (from ir-datasets->ranx) (2.27.1)\n",
            "Requirement already satisfied: warc3-wet-clueweb09>=0.2.5 in /usr/local/lib/python3.9/dist-packages (from ir-datasets->ranx) (0.2.5)\n",
            "Requirement already satisfied: zlib-state>=0.1.3 in /usr/local/lib/python3.9/dist-packages (from ir-datasets->ranx) (0.1.5)\n",
            "Requirement already satisfied: trec-car-tools>=2.5.4 in /usr/local/lib/python3.9/dist-packages (from ir-datasets->ranx) (2.6)\n",
            "Requirement already satisfied: pytz>=2020.1 in /usr/local/lib/python3.9/dist-packages (from pandas->ranx) (2022.7.1)\n",
            "Requirement already satisfied: python-dateutil>=2.8.1 in /usr/local/lib/python3.9/dist-packages (from pandas->ranx) (2.8.2)\n",
            "Requirement already satisfied: pygments<3.0.0,>=2.13.0 in /usr/local/lib/python3.9/dist-packages (from rich->ranx) (2.14.0)\n",
            "Requirement already satisfied: markdown-it-py<3.0.0,>=2.2.0 in /usr/local/lib/python3.9/dist-packages (from rich->ranx) (2.2.0)\n",
            "Requirement already satisfied: soupsieve>1.2 in /usr/local/lib/python3.9/dist-packages (from beautifulsoup4>=4.4.1->ir-datasets->ranx) (2.4.1)\n",
            "Requirement already satisfied: mdurl~=0.1 in /usr/local/lib/python3.9/dist-packages (from markdown-it-py<3.0.0,>=2.2.0->rich->ranx) (0.1.2)\n",
            "Requirement already satisfied: six>=1.5 in /usr/local/lib/python3.9/dist-packages (from python-dateutil>=2.8.1->pandas->ranx) (1.16.0)\n",
            "Requirement already satisfied: urllib3<1.27,>=1.21.1 in /usr/local/lib/python3.9/dist-packages (from requests>=2.22.0->ir-datasets->ranx) (1.26.15)\n",
            "Requirement already satisfied: charset-normalizer~=2.0.0 in /usr/local/lib/python3.9/dist-packages (from requests>=2.22.0->ir-datasets->ranx) (2.0.12)\n",
            "Requirement already satisfied: idna<4,>=2.5 in /usr/local/lib/python3.9/dist-packages (from requests>=2.22.0->ir-datasets->ranx) (3.4)\n",
            "Requirement already satisfied: certifi>=2017.4.17 in /usr/local/lib/python3.9/dist-packages (from requests>=2.22.0->ir-datasets->ranx) (2022.12.7)\n",
            "Requirement already satisfied: cbor>=1.0.0 in /usr/local/lib/python3.9/dist-packages (from trec-car-tools>=2.5.4->ir-datasets->ranx) (1.0.0)\n",
            "Installing collected packages: orjson, cbor2, ranx\n",
            "Successfully installed cbor2-5.4.6 orjson-3.8.10 ranx-0.3.7\n"
          ]
        }
      ]
    },
    {
      "cell_type": "code",
      "source": [
        "!pip install repro-eval"
      ],
      "metadata": {
        "id": "Qk4CIswSg7Mo",
        "colab": {
          "base_uri": "https://localhost:8080/"
        },
        "outputId": "ae1102d6-9928-4dd6-b752-04ba33977041"
      },
      "execution_count": null,
      "outputs": [
        {
          "output_type": "stream",
          "name": "stdout",
          "text": [
            "Looking in indexes: https://pypi.org/simple, https://us-python.pkg.dev/colab-wheels/public/simple/\n",
            "Collecting repro-eval\n",
            "  Downloading repro_eval-0.4.0-py3-none-any.whl (38 kB)\n",
            "Collecting GitPython\n",
            "  Downloading GitPython-3.1.31-py3-none-any.whl (184 kB)\n",
            "\u001b[2K     \u001b[90m━━━━━━━━━━━━━━━━━━━━━━━━━━━━━━━━━━━━━━\u001b[0m \u001b[32m184.3/184.3 kB\u001b[0m \u001b[31m10.2 MB/s\u001b[0m eta \u001b[36m0:00:00\u001b[0m\n",
            "\u001b[?25hRequirement already satisfied: numpy in /usr/local/lib/python3.9/dist-packages (from repro-eval) (1.22.4)\n",
            "Requirement already satisfied: scipy in /usr/local/lib/python3.9/dist-packages (from repro-eval) (1.10.1)\n",
            "Requirement already satisfied: tqdm in /usr/local/lib/python3.9/dist-packages (from repro-eval) (4.65.0)\n",
            "Collecting pytrec-eval\n",
            "  Downloading pytrec_eval-0.5.tar.gz (15 kB)\n",
            "  Preparing metadata (setup.py) ... \u001b[?25l\u001b[?25hdone\n",
            "Collecting ruamel.yaml\n",
            "  Downloading ruamel.yaml-0.17.21-py3-none-any.whl (109 kB)\n",
            "\u001b[2K     \u001b[90m━━━━━━━━━━━━━━━━━━━━━━━━━━━━━━━━━━━━━━━\u001b[0m \u001b[32m109.5/109.5 kB\u001b[0m \u001b[31m7.7 MB/s\u001b[0m eta \u001b[36m0:00:00\u001b[0m\n",
            "\u001b[?25hRequirement already satisfied: py-cpuinfo in /usr/local/lib/python3.9/dist-packages (from repro-eval) (9.0.0)\n",
            "Collecting gitdb<5,>=4.0.1\n",
            "  Downloading gitdb-4.0.10-py3-none-any.whl (62 kB)\n",
            "\u001b[2K     \u001b[90m━━━━━━━━━━━━━━━━━━━━━━━━━━━━━━━━━━━━━━━━\u001b[0m \u001b[32m62.7/62.7 kB\u001b[0m \u001b[31m4.7 MB/s\u001b[0m eta \u001b[36m0:00:00\u001b[0m\n",
            "\u001b[?25hCollecting ruamel.yaml.clib>=0.2.6\n",
            "  Downloading ruamel.yaml.clib-0.2.7-cp39-cp39-manylinux_2_17_x86_64.manylinux2014_x86_64.manylinux_2_24_x86_64.whl (519 kB)\n",
            "\u001b[2K     \u001b[90m━━━━━━━━━━━━━━━━━━━━━━━━━━━━━━━━━━━━━━\u001b[0m \u001b[32m519.4/519.4 kB\u001b[0m \u001b[31m18.0 MB/s\u001b[0m eta \u001b[36m0:00:00\u001b[0m\n",
            "\u001b[?25hCollecting smmap<6,>=3.0.1\n",
            "  Downloading smmap-5.0.0-py3-none-any.whl (24 kB)\n",
            "Building wheels for collected packages: pytrec-eval\n",
            "  Building wheel for pytrec-eval (setup.py) ... \u001b[?25l\u001b[?25hdone\n",
            "  Created wheel for pytrec-eval: filename=pytrec_eval-0.5-cp39-cp39-linux_x86_64.whl size=293185 sha256=bfccf7a30c59c62d6f43b50f3e43ad179128df487e9d828bd91ccd0df8d8f673\n",
            "  Stored in directory: /root/.cache/pip/wheels/e9/91/35/6059501bca98e27e0b4f91ecaaff86c95ca7f4919ff22f0d54\n",
            "Successfully built pytrec-eval\n",
            "Installing collected packages: smmap, ruamel.yaml.clib, pytrec-eval, ruamel.yaml, gitdb, GitPython, repro-eval\n",
            "Successfully installed GitPython-3.1.31 gitdb-4.0.10 pytrec-eval-0.5 repro-eval-0.4.0 ruamel.yaml-0.17.21 ruamel.yaml.clib-0.2.7 smmap-5.0.0\n"
          ]
        }
      ]
    },
    {
      "cell_type": "code",
      "source": [
        "! wget https://th-koeln.sciebo.de/s/Agvx4PoLN3oCkZh/download -O index.tar.xz"
      ],
      "metadata": {
        "colab": {
          "base_uri": "https://localhost:8080/"
        },
        "id": "IGKgP0TkTYDO",
        "outputId": "52fb6798-a753-4b52-a4a7-2f7bdb1c9104"
      },
      "execution_count": null,
      "outputs": [
        {
          "output_type": "stream",
          "name": "stdout",
          "text": [
            "--2023-04-20 17:04:25--  https://th-koeln.sciebo.de/s/Agvx4PoLN3oCkZh/download\n",
            "Resolving th-koeln.sciebo.de (th-koeln.sciebo.de)... 128.176.1.2\n",
            "Connecting to th-koeln.sciebo.de (th-koeln.sciebo.de)|128.176.1.2|:443... connected.\n",
            "HTTP request sent, awaiting response... 200 OK\n",
            "Length: 1057823840 (1009M) [application/octet-stream]\n",
            "Saving to: ‘index.tar.xz’\n",
            "\n",
            "index.tar.xz        100%[===================>]   1009M  84.2MB/s    in 9.8s    \n",
            "\n",
            "2023-04-20 17:04:35 (103 MB/s) - ‘index.tar.xz’ saved [1057823840/1057823840]\n",
            "\n"
          ]
        }
      ]
    },
    {
      "cell_type": "code",
      "source": [
        "!tar -xf index.tar.xz"
      ],
      "metadata": {
        "id": "wQXEJPcYT_5p"
      },
      "execution_count": null,
      "outputs": []
    },
    {
      "cell_type": "code",
      "source": [
        "! wget https://th-koeln.sciebo.de/s/3ZoAxoWQ1Bvmg2D/download -O uqv.tar.xz"
      ],
      "metadata": {
        "colab": {
          "base_uri": "https://localhost:8080/"
        },
        "id": "uschVvkBWGCD",
        "outputId": "5f36d45a-cd4c-4e7c-c883-223a4e67fe51"
      },
      "execution_count": null,
      "outputs": [
        {
          "output_type": "stream",
          "name": "stdout",
          "text": [
            "--2023-04-20 17:06:51--  https://th-koeln.sciebo.de/s/3ZoAxoWQ1Bvmg2D/download\n",
            "Resolving th-koeln.sciebo.de (th-koeln.sciebo.de)... 128.176.1.2\n",
            "Connecting to th-koeln.sciebo.de (th-koeln.sciebo.de)|128.176.1.2|:443... connected.\n",
            "HTTP request sent, awaiting response... 200 OK\n",
            "Length: 45324 (44K) [application/octet-stream]\n",
            "Saving to: ‘uqv.tar.xz’\n",
            "\n",
            "uqv.tar.xz          100%[===================>]  44.26K  --.-KB/s    in 0.02s   \n",
            "\n",
            "2023-04-20 17:06:51 (2.76 MB/s) - ‘uqv.tar.xz’ saved [45324/45324]\n",
            "\n"
          ]
        }
      ]
    },
    {
      "cell_type": "code",
      "source": [
        "!tar -xf uqv.tar.xz"
      ],
      "metadata": {
        "id": "op01Y6zOWOE0"
      },
      "execution_count": null,
      "outputs": []
    },
    {
      "cell_type": "code",
      "source": [
        "import os\n",
        "os.environ[\"JAVA_HOME\"] = \"/usr/lib/jvm/java-11-openjdk-amd64\"\n",
        "\n",
        "import pyterrier as pt\n",
        "if not pt.started():\n",
        "  pt.init()\n",
        "\n",
        "dataset = pt.get_dataset('irds:nyt/trec-core-2017')\n",
        "index_ref = pt.IndexRef.of('./index/nyt') \n",
        "bm25 = pt.BatchRetrieve(index_ref, wmodel='BM25')\n",
        "baseline = bm25(dataset.get_topics('title'))"
      ],
      "metadata": {
        "colab": {
          "base_uri": "https://localhost:8080/"
        },
        "id": "-SN8IFMlU_Bl",
        "outputId": "8e299e41-3242-42b2-a9b0-e5dcbf4506a4"
      },
      "execution_count": null,
      "outputs": [
        {
          "output_type": "stream",
          "name": "stdout",
          "text": [
            "terrier-assemblies 5.7 jar-with-dependencies not found, downloading to /root/.pyterrier...\n",
            "Done\n",
            "terrier-python-helper 0.0.7 jar not found, downloading to /root/.pyterrier...\n",
            "Done\n"
          ]
        },
        {
          "output_type": "stream",
          "name": "stderr",
          "text": [
            "PyTerrier 0.9.2 has loaded Terrier 5.7 (built by craigm on 2022-11-10 18:30) and terrier-helper 0.0.7\n",
            "\n",
            "[INFO] [starting] https://trec.nist.gov/data/core/core_nist.txt\n",
            "[INFO] [finished] https://trec.nist.gov/data/core/core_nist.txt: [00:00] [24.4kB] [167kB/s]\n"
          ]
        }
      ]
    },
    {
      "cell_type": "code",
      "source": [
        "baseline"
      ],
      "metadata": {
        "colab": {
          "base_uri": "https://localhost:8080/",
          "height": 423
        },
        "id": "66j4cQj0VZzI",
        "outputId": "11705d72-8c80-428d-b487-4a9785196a44"
      },
      "execution_count": null,
      "outputs": [
        {
          "output_type": "execute_result",
          "data": {
            "text/plain": [
              "       qid    docid    docno  rank      score                        query\n",
              "0      307    37037    35583     0  24.954277   new hydroelectric projects\n",
              "1      307   306243   302004     1  24.698387   new hydroelectric projects\n",
              "2      307   519037   504815     2  24.468871   new hydroelectric projects\n",
              "3      307   296321   295147     3  24.273892   new hydroelectric projects\n",
              "4      307     4607     1375     4  24.189697   new hydroelectric projects\n",
              "...    ...      ...      ...   ...        ...                          ...\n",
              "49995  690  1854933  1844210   995  13.074549  college education advantage\n",
              "49996  690   319034   307180   996  13.073340  college education advantage\n",
              "49997  690   380410   367344   997  13.073172  college education advantage\n",
              "49998  690   949624   934866   998  13.072484  college education advantage\n",
              "49999  690   922938   918080   999  13.071486  college education advantage\n",
              "\n",
              "[50000 rows x 6 columns]"
            ],
            "text/html": [
              "\n",
              "  <div id=\"df-a4df3b00-14bd-4b2d-84e2-5c97228a9c16\">\n",
              "    <div class=\"colab-df-container\">\n",
              "      <div>\n",
              "<style scoped>\n",
              "    .dataframe tbody tr th:only-of-type {\n",
              "        vertical-align: middle;\n",
              "    }\n",
              "\n",
              "    .dataframe tbody tr th {\n",
              "        vertical-align: top;\n",
              "    }\n",
              "\n",
              "    .dataframe thead th {\n",
              "        text-align: right;\n",
              "    }\n",
              "</style>\n",
              "<table border=\"1\" class=\"dataframe\">\n",
              "  <thead>\n",
              "    <tr style=\"text-align: right;\">\n",
              "      <th></th>\n",
              "      <th>qid</th>\n",
              "      <th>docid</th>\n",
              "      <th>docno</th>\n",
              "      <th>rank</th>\n",
              "      <th>score</th>\n",
              "      <th>query</th>\n",
              "    </tr>\n",
              "  </thead>\n",
              "  <tbody>\n",
              "    <tr>\n",
              "      <th>0</th>\n",
              "      <td>307</td>\n",
              "      <td>37037</td>\n",
              "      <td>35583</td>\n",
              "      <td>0</td>\n",
              "      <td>24.954277</td>\n",
              "      <td>new hydroelectric projects</td>\n",
              "    </tr>\n",
              "    <tr>\n",
              "      <th>1</th>\n",
              "      <td>307</td>\n",
              "      <td>306243</td>\n",
              "      <td>302004</td>\n",
              "      <td>1</td>\n",
              "      <td>24.698387</td>\n",
              "      <td>new hydroelectric projects</td>\n",
              "    </tr>\n",
              "    <tr>\n",
              "      <th>2</th>\n",
              "      <td>307</td>\n",
              "      <td>519037</td>\n",
              "      <td>504815</td>\n",
              "      <td>2</td>\n",
              "      <td>24.468871</td>\n",
              "      <td>new hydroelectric projects</td>\n",
              "    </tr>\n",
              "    <tr>\n",
              "      <th>3</th>\n",
              "      <td>307</td>\n",
              "      <td>296321</td>\n",
              "      <td>295147</td>\n",
              "      <td>3</td>\n",
              "      <td>24.273892</td>\n",
              "      <td>new hydroelectric projects</td>\n",
              "    </tr>\n",
              "    <tr>\n",
              "      <th>4</th>\n",
              "      <td>307</td>\n",
              "      <td>4607</td>\n",
              "      <td>1375</td>\n",
              "      <td>4</td>\n",
              "      <td>24.189697</td>\n",
              "      <td>new hydroelectric projects</td>\n",
              "    </tr>\n",
              "    <tr>\n",
              "      <th>...</th>\n",
              "      <td>...</td>\n",
              "      <td>...</td>\n",
              "      <td>...</td>\n",
              "      <td>...</td>\n",
              "      <td>...</td>\n",
              "      <td>...</td>\n",
              "    </tr>\n",
              "    <tr>\n",
              "      <th>49995</th>\n",
              "      <td>690</td>\n",
              "      <td>1854933</td>\n",
              "      <td>1844210</td>\n",
              "      <td>995</td>\n",
              "      <td>13.074549</td>\n",
              "      <td>college education advantage</td>\n",
              "    </tr>\n",
              "    <tr>\n",
              "      <th>49996</th>\n",
              "      <td>690</td>\n",
              "      <td>319034</td>\n",
              "      <td>307180</td>\n",
              "      <td>996</td>\n",
              "      <td>13.073340</td>\n",
              "      <td>college education advantage</td>\n",
              "    </tr>\n",
              "    <tr>\n",
              "      <th>49997</th>\n",
              "      <td>690</td>\n",
              "      <td>380410</td>\n",
              "      <td>367344</td>\n",
              "      <td>997</td>\n",
              "      <td>13.073172</td>\n",
              "      <td>college education advantage</td>\n",
              "    </tr>\n",
              "    <tr>\n",
              "      <th>49998</th>\n",
              "      <td>690</td>\n",
              "      <td>949624</td>\n",
              "      <td>934866</td>\n",
              "      <td>998</td>\n",
              "      <td>13.072484</td>\n",
              "      <td>college education advantage</td>\n",
              "    </tr>\n",
              "    <tr>\n",
              "      <th>49999</th>\n",
              "      <td>690</td>\n",
              "      <td>922938</td>\n",
              "      <td>918080</td>\n",
              "      <td>999</td>\n",
              "      <td>13.071486</td>\n",
              "      <td>college education advantage</td>\n",
              "    </tr>\n",
              "  </tbody>\n",
              "</table>\n",
              "<p>50000 rows × 6 columns</p>\n",
              "</div>\n",
              "      <button class=\"colab-df-convert\" onclick=\"convertToInteractive('df-a4df3b00-14bd-4b2d-84e2-5c97228a9c16')\"\n",
              "              title=\"Convert this dataframe to an interactive table.\"\n",
              "              style=\"display:none;\">\n",
              "        \n",
              "  <svg xmlns=\"http://www.w3.org/2000/svg\" height=\"24px\"viewBox=\"0 0 24 24\"\n",
              "       width=\"24px\">\n",
              "    <path d=\"M0 0h24v24H0V0z\" fill=\"none\"/>\n",
              "    <path d=\"M18.56 5.44l.94 2.06.94-2.06 2.06-.94-2.06-.94-.94-2.06-.94 2.06-2.06.94zm-11 1L8.5 8.5l.94-2.06 2.06-.94-2.06-.94L8.5 2.5l-.94 2.06-2.06.94zm10 10l.94 2.06.94-2.06 2.06-.94-2.06-.94-.94-2.06-.94 2.06-2.06.94z\"/><path d=\"M17.41 7.96l-1.37-1.37c-.4-.4-.92-.59-1.43-.59-.52 0-1.04.2-1.43.59L10.3 9.45l-7.72 7.72c-.78.78-.78 2.05 0 2.83L4 21.41c.39.39.9.59 1.41.59.51 0 1.02-.2 1.41-.59l7.78-7.78 2.81-2.81c.8-.78.8-2.07 0-2.86zM5.41 20L4 18.59l7.72-7.72 1.47 1.35L5.41 20z\"/>\n",
              "  </svg>\n",
              "      </button>\n",
              "      \n",
              "  <style>\n",
              "    .colab-df-container {\n",
              "      display:flex;\n",
              "      flex-wrap:wrap;\n",
              "      gap: 12px;\n",
              "    }\n",
              "\n",
              "    .colab-df-convert {\n",
              "      background-color: #E8F0FE;\n",
              "      border: none;\n",
              "      border-radius: 50%;\n",
              "      cursor: pointer;\n",
              "      display: none;\n",
              "      fill: #1967D2;\n",
              "      height: 32px;\n",
              "      padding: 0 0 0 0;\n",
              "      width: 32px;\n",
              "    }\n",
              "\n",
              "    .colab-df-convert:hover {\n",
              "      background-color: #E2EBFA;\n",
              "      box-shadow: 0px 1px 2px rgba(60, 64, 67, 0.3), 0px 1px 3px 1px rgba(60, 64, 67, 0.15);\n",
              "      fill: #174EA6;\n",
              "    }\n",
              "\n",
              "    [theme=dark] .colab-df-convert {\n",
              "      background-color: #3B4455;\n",
              "      fill: #D2E3FC;\n",
              "    }\n",
              "\n",
              "    [theme=dark] .colab-df-convert:hover {\n",
              "      background-color: #434B5C;\n",
              "      box-shadow: 0px 1px 3px 1px rgba(0, 0, 0, 0.15);\n",
              "      filter: drop-shadow(0px 1px 2px rgba(0, 0, 0, 0.3));\n",
              "      fill: #FFFFFF;\n",
              "    }\n",
              "  </style>\n",
              "\n",
              "      <script>\n",
              "        const buttonEl =\n",
              "          document.querySelector('#df-a4df3b00-14bd-4b2d-84e2-5c97228a9c16 button.colab-df-convert');\n",
              "        buttonEl.style.display =\n",
              "          google.colab.kernel.accessAllowed ? 'block' : 'none';\n",
              "\n",
              "        async function convertToInteractive(key) {\n",
              "          const element = document.querySelector('#df-a4df3b00-14bd-4b2d-84e2-5c97228a9c16');\n",
              "          const dataTable =\n",
              "            await google.colab.kernel.invokeFunction('convertToInteractive',\n",
              "                                                     [key], {});\n",
              "          if (!dataTable) return;\n",
              "\n",
              "          const docLinkHtml = 'Like what you see? Visit the ' +\n",
              "            '<a target=\"_blank\" href=https://colab.research.google.com/notebooks/data_table.ipynb>data table notebook</a>'\n",
              "            + ' to learn more about interactive tables.';\n",
              "          element.innerHTML = '';\n",
              "          dataTable['output_type'] = 'display_data';\n",
              "          await google.colab.output.renderOutput(dataTable, element);\n",
              "          const docLink = document.createElement('div');\n",
              "          docLink.innerHTML = docLinkHtml;\n",
              "          element.appendChild(docLink);\n",
              "        }\n",
              "      </script>\n",
              "    </div>\n",
              "  </div>\n",
              "  "
            ]
          },
          "metadata": {},
          "execution_count": 9
        }
      ]
    },
    {
      "cell_type": "markdown",
      "source": [
        "## Data fusion based on Reciprocal Rank Fusion (RRF)"
      ],
      "metadata": {
        "id": "GowULae0X5O4"
      }
    },
    {
      "cell_type": "code",
      "source": [
        "import os\n",
        "os.environ[\"JAVA_HOME\"] = \"/usr/lib/jvm/java-11-openjdk-amd64\"\n",
        "\n",
        "import pandas as pd \n",
        "\n",
        "import pyterrier as pt\n",
        "if not pt.started():\n",
        "  pt.init()\n",
        "  \n",
        "from ranx import Qrels, Run, evaluate, compare, fuse, optimize_fusion\n",
        "  \n",
        "uqv = pd.read_csv('uqv/uqv-core17.txt', names=['qno', 'user', 'qid', 'query'])  \n",
        "dataset = pt.get_dataset('irds:nyt/trec-core-2017')\n",
        "index_ref = pt.IndexRef.of('./index/nyt') \n",
        "qrels = Qrels.from_ir_datasets(\"nyt/trec-core-2017\")\n",
        "\n",
        "bm25 = pt.BatchRetrieve(index_ref, wmodel='BM25')\n",
        "baseline = bm25(dataset.get_topics('title'))\n",
        "pt.io.write_results(baseline, 'tmp', format='trec', append=False)\n",
        "baseline_ranx = Run.from_file('tmp', kind='trec')\n",
        "baseline_ranx.name = 'BM25'\n",
        "\n",
        "runs = []\n",
        "\n",
        "for i in range(1, 11):\n",
        "\n",
        "  queries = uqv[uqv['qno']==i][['qid', 'query']]\n",
        "  queries['query'] = queries['query'].str.replace('?', '',regex=False)\n",
        "  queries['query'] = queries['query'].str.replace(\"'\", '',regex=False)\n",
        "  pt.io.write_results(bm25(queries), 'tmp', format='trec', append=False)\n",
        "  runs.append(Run.from_file('tmp', kind='trec'))\n",
        "\n",
        "fuse_method = 'rrf'\n",
        "\n",
        "run_rrf = fuse(runs=runs, method=fuse_method)\n",
        "run_rrf.name = 'RRF (BM25)'\n",
        "\n",
        "report = compare(\n",
        "    qrels=Qrels.from_ir_datasets(\"nyt/trec-core-2017\"),\n",
        "    runs=[baseline_ranx, run_rrf],\n",
        "    metrics=[\"ndcg\", \"map\", \"precision@10\", \"bpref\"],\n",
        "    max_p=0.05  \n",
        ")\n",
        "\n",
        "report"
      ],
      "metadata": {
        "colab": {
          "base_uri": "https://localhost:8080/"
        },
        "id": "XaaqdC2EWiXf",
        "outputId": "11f6ece9-7a7b-42b1-9192-09a7f65872c2"
      },
      "execution_count": null,
      "outputs": [
        {
          "output_type": "stream",
          "name": "stderr",
          "text": [
            "[INFO] [starting] https://trec.nist.gov/data/core/qrels.txt\n",
            "[INFO] [finished] https://trec.nist.gov/data/core/qrels.txt: [00:00] [462kB] [765kB/s]\n"
          ]
        },
        {
          "output_type": "execute_result",
          "data": {
            "text/plain": [
              "#    Model       NDCG    MAP     P@10    BPref\n",
              "---  ----------  ------  ------  ------  -------\n",
              "a    BM25        0.432   0.199   0.458   0.274\n",
              "b    RRF (BM25)  0.595ᵃ  0.265ᵃ  0.566ᵃ  0.397ᵃ"
            ]
          },
          "metadata": {},
          "execution_count": 10
        }
      ]
    },
    {
      "cell_type": "code",
      "source": [
        "import matplotlib.pyplot as plt\n",
        "import seaborn as sns \n",
        "sns.set_style('darkgrid')\n",
        "\n",
        "delta = pd.DataFrame.from_dict(run_rrf.scores) - pd.DataFrame.from_dict(baseline_ranx.scores) \n",
        "ax = delta['ndcg'].sort_values(ascending=False).plot(figsize=(12,4), kind='bar')\n",
        "ax.set_xlabel(\"Topics\")\n",
        "ax.set_ylabel('$\\Delta$ nDCG')\n",
        "plt.title(\"Reciprocal Rank Fusion vs. BM25\")\n",
        "plt.show()"
      ],
      "metadata": {
        "colab": {
          "base_uri": "https://localhost:8080/",
          "height": 423
        },
        "id": "NgwpC-sCXHjf",
        "outputId": "c69396b1-1428-4193-c19e-3fc11ff37222"
      },
      "execution_count": null,
      "outputs": [
        {
          "output_type": "display_data",
          "data": {
            "text/plain": [
              "<Figure size 1200x400 with 1 Axes>"
            ],
            "image/png": "[encoded data removed]"
          },
          "metadata": {}
        }
      ]
    },
    {
      "cell_type": "markdown",
      "source": [
        "## Session Discounted Cumulated Gain"
      ],
      "metadata": {
        "id": "ithMihRHX2_d"
      }
    },
    {
      "cell_type": "code",
      "source": [
        "import math\n",
        "\n",
        "import os\n",
        "os.environ[\"JAVA_HOME\"] = \"/usr/lib/jvm/java-11-openjdk-amd64\"\n",
        "\n",
        "import pandas as pd \n",
        "\n",
        "import pyterrier as pt\n",
        "if not pt.started():\n",
        "  pt.init()\n",
        "  \n",
        "from ranx import Qrels, Run, evaluate, compare, fuse, optimize_fusion\n",
        "\n",
        "uqv = pd.read_csv('uqv/uqv-core17.txt', names=['qno', 'user', 'qid', 'query'])  \n",
        "uqv['query'] = uqv['query'].str.replace('?', '', regex=False)\n",
        "uqv['query'] = uqv['query'].str.replace(\"'\", '', regex=False)\n",
        "\n",
        "os.makedirs('runs', exist_ok=True)\n",
        "\n",
        "for qno in range(1,21):\n",
        "    queries_uqv = uqv[(uqv['qno'] == qno) & (uqv['user'] == 1)][['qid', 'query']]\n",
        "    run = bm25(queries_uqv)\n",
        "    pt.io.write_results(run, 'runs/uqv-core17-1-' + str(qno), format='trec', append=False)"
      ],
      "metadata": {
        "id": "NKMs-f4fX2EE"
      },
      "execution_count": null,
      "outputs": []
    },
    {
      "cell_type": "code",
      "source": [
        "import math\n",
        "from ranx import Qrels, Run, evaluate, compare, fuse, optimize_fusion\n",
        "  \n",
        "b = 2\n",
        "bq = 4\n",
        "\n",
        "_qrels = Qrels.from_ir_datasets(\"nyt/trec-core-2017\")\n",
        "qrels = _qrels.to_dict()\n",
        "\n",
        "run_store = {}\n",
        "for q in range(1, 21):\n",
        "    run_store[q] = Run.from_file('runs/uqv-core17-1-' + str(q), kind='trec').to_dict()\n",
        "\n",
        "qrels_store = {}\n",
        "for k,v in qrels.items():\n",
        "    for _v in v:\n",
        "        qrels_store[(k,_v)] = qrels.get(k).get(_v)\n",
        "\n",
        "\n",
        "def dcg(results, topic):\n",
        "    _dcg = 0\n",
        "    for i,result in enumerate(results):\n",
        "        _doc = qrels_store.get(topic,result)\n",
        "        if _doc is not None:\n",
        "            _dcg += int(_doc) / (1 + math.log(i+1, b))\n",
        "\n",
        "    return _dcg\n",
        "\n",
        "data = {}\n",
        "topics = qrels.keys()  \n",
        "\n",
        "for num_queries in range(1,21):\n",
        "    _data = {}\n",
        "    for num_docs in range(1, 100):\n",
        "        run = {}\n",
        "        for topic in topics:\n",
        "            sdcg = 0.0\n",
        "            for q in range(1, num_queries):\n",
        "                results = list(run_store.get(q).get(topic).keys())[:num_docs]\n",
        "                sdcg += dcg(results, topic) / (1 + math.log(q + 1, bq))\n",
        "            run[topic] = sdcg\n",
        "        avg_sdcg = sum([sdcg for sdcg in run.values()])/len(topics)\n",
        "        _data[num_docs] = avg_sdcg\n",
        "    data[str(num_queries) + ' queries'] = _data\n",
        "    \n",
        "pd.DataFrame.from_dict(data).to_csv('sdcg.csv')"
      ],
      "metadata": {
        "id": "jG7sDF_L3rcp"
      },
      "execution_count": null,
      "outputs": []
    },
    {
      "cell_type": "code",
      "source": [
        "import pandas as pd\n",
        "import matplotlib.pyplot as plt\n",
        "import seaborn as sns \n",
        "sns.set_style('darkgrid')\n",
        "\n",
        "df = pd.read_csv('sdcg.csv', index_col=0)\n",
        "ax = df[['3 queries', '5 queries', '10 queries', '15 queries', '20 queries']].plot(figsize=(6,6))\n",
        "ax.set_xlabel(\"Documents per query\")\n",
        "ax.set_ylabel('sDCG')\n",
        "plt.title(\"sDCG (b=2, bq=4)\")\n",
        "plt.savefig('sdcg.pdf', bbox_inches='tight')\n",
        "plt.show()"
      ],
      "metadata": {
        "colab": {
          "base_uri": "https://localhost:8080/",
          "height": 564
        },
        "id": "31VC4cjM35jl",
        "outputId": "fb8021fd-0a14-423d-c97e-7e4acf790db6"
      },
      "execution_count": null,
      "outputs": [
        {
          "output_type": "display_data",
          "data": {
            "text/plain": [
              "<Figure size 600x600 with 1 Axes>"
            ],
            "image/png": "[encoded data removed]"
          },
          "metadata": {}
        }
      ]
    },
    {
      "cell_type": "markdown",
      "source": [
        "## Reproducibility Analysis"
      ],
      "metadata": {
        "id": "MlkcjJSUtB-Y"
      }
    },
    {
      "cell_type": "code",
      "source": [
        "import os\n",
        "os.environ[\"JAVA_HOME\"] = \"/usr/lib/jvm/java-11-openjdk-amd64\"\n",
        "\n",
        "import pandas as pd \n",
        "\n",
        "import pyterrier as pt\n",
        "if not pt.started():\n",
        "  pt.init()\n",
        "  \n",
        "from ranx import Qrels, Run, evaluate, compare, fuse, optimize_fusion\n",
        "  \n",
        "uqv = pd.read_csv('uqv/uqv-core17.txt', names=['qno', 'user', 'qid', 'query'])  \n",
        "uqv['query'] = uqv['query'].str.replace('?', '', regex=False)\n",
        "uqv['query'] = uqv['query'].str.replace(\"'\", '', regex=False)\n",
        "dataset = pt.get_dataset('irds:nyt/trec-core-2017')\n",
        "index_ref = pt.IndexRef.of('./index/nyt') \n",
        "qrels = Qrels.from_ir_datasets(\"nyt/trec-core-2017\")"
      ],
      "metadata": {
        "id": "J0iX7opltAUg"
      },
      "execution_count": null,
      "outputs": []
    },
    {
      "cell_type": "code",
      "source": [
        "!wget https://trec.nist.gov/data/core/qrels.txt"
      ],
      "metadata": {
        "colab": {
          "base_uri": "https://localhost:8080/"
        },
        "id": "UM_ao_extF96",
        "outputId": "65024213-239b-4a7d-fbb9-ba884f6fed9d"
      },
      "execution_count": null,
      "outputs": [
        {
          "output_type": "stream",
          "name": "stdout",
          "text": [
            "--2023-04-20 17:13:01--  https://trec.nist.gov/data/core/qrels.txt\n",
            "Resolving trec.nist.gov (trec.nist.gov)... 132.163.4.175, 2610:20:6005:13::19\n",
            "Connecting to trec.nist.gov (trec.nist.gov)|132.163.4.175|:443... connected.\n",
            "HTTP request sent, awaiting response... 200 OK\n",
            "Length: 462387 (452K) [text/plain]\n",
            "Saving to: ‘qrels.txt’\n",
            "\n",
            "qrels.txt           100%[===================>] 451.55K   745KB/s    in 0.6s    \n",
            "\n",
            "2023-04-20 17:13:03 (745 KB/s) - ‘qrels.txt’ saved [462387/462387]\n",
            "\n"
          ]
        }
      ]
    },
    {
      "cell_type": "code",
      "source": [
        "from repro_eval.Evaluator import RpdEvaluator\n",
        "\n",
        "queries_topic = dataset.get_topics('title')\n",
        "queries_uqv = uqv[(uqv['qno'] == 1) & (uqv['user'] == 1)][['qid', 'query']]\n",
        "\n",
        "bm25 = pt.BatchRetrieve(index_ref, wmodel='BM25')\n",
        "run_orig = bm25(queries_topic)\n",
        "pt.io.write_results(run_orig, 'original', format='trec', append=False)\n",
        "\n",
        "run_rep = bm25(queries_uqv)\n",
        "pt.io.write_results(run_rep, 'reproduction', format='trec', append=False)\n",
        "\n",
        "run_orig_ranx = Run.from_file('original', kind='trec')\n",
        "run_orig_ranx.name = 'Original'\n",
        "run_rep_ranx =  Run.from_file('reproduction', kind='trec')\n",
        "run_rep_ranx.name = 'Reproduction'\n",
        "\n",
        "rpd_eval = RpdEvaluator(qrel_orig_path='./qrels.txt')\n",
        "rpd_eval.run_b_orig = run_orig_ranx.to_dict()\n",
        "rpd_eval.run_b_rep = run_rep_ranx.to_dict()\n",
        "rpd_eval.evaluate()\n",
        "\n",
        "report = compare(\n",
        "    qrels=Qrels.from_ir_datasets(\"nyt/trec-core-2017\"),\n",
        "    runs=[run_orig_ranx, run_rep_ranx],\n",
        "    metrics=[\"ndcg\", \"map\", \"precision@10\", \"bpref\"],\n",
        "    max_p=0.05  \n",
        ")\n",
        "\n",
        "print(report, '\\n')\n",
        "\n",
        "print('RBO', str(sum(rpd_eval.rbo().get('baseline').values())/len(queries_topic)), '\\n')\n",
        "\n",
        "print('RMSE (nDCG)', str(rpd_eval.rmse().get('baseline').get('ndcg')))\n",
        "print('RMSE (MAP)', str(rpd_eval.rmse().get('baseline').get('map')))\n",
        "print('RMSE (P@10)', str(rpd_eval.rmse().get('baseline').get('P_10')))\n",
        "print('RMSE (BPref)', str(rpd_eval.rmse().get('baseline').get('bpref')))"
      ],
      "metadata": {
        "colab": {
          "base_uri": "https://localhost:8080/"
        },
        "id": "dsld6mF9tH9R",
        "outputId": "c06e1344-e384-458b-c24a-022c833596ca"
      },
      "execution_count": null,
      "outputs": [
        {
          "output_type": "stream",
          "name": "stdout",
          "text": [
            "#    Model           NDCG    MAP    P@10    BPref\n",
            "---  ------------  ------  -----  ------  -------\n",
            "a    Original       0.432  0.199   0.458    0.274\n",
            "b    Reproduction   0.42   0.185   0.458    0.276 \n",
            "\n",
            "RBO 0.5040381481685675 \n",
            "\n",
            "RMSE (nDCG) 0.10313757327359328\n",
            "RMSE (MAP) 0.12001870824968416\n",
            "RMSE (P@10) 0.1969771560359221\n",
            "RMSE (BPref) 0.09310845170902396\n"
          ]
        }
      ]
    },
    {
      "cell_type": "markdown",
      "source": [
        "## Jaccard Similarity"
      ],
      "metadata": {
        "id": "XZ-VV6GLB_9J"
      }
    },
    {
      "cell_type": "code",
      "source": [
        "def _uqv(filename='./robust-uqv.txt'):\n",
        "    with open(filename, 'r') as f_in:\n",
        "        for line in f_in.readlines():\n",
        "            topic_user_query = line.split(';')[0].split('-')\n",
        "            qstr = line.split(';')[1].strip('\\n')\n",
        "            yield {'topic': int(topic_user_query[0]),\n",
        "                   'user': int(topic_user_query[1]),\n",
        "                   'num': int(topic_user_query[2]),\n",
        "                   'qstr': qstr,\n",
        "                   'reformulation': int(topic_user_query[2]) > 1}\n",
        "\n",
        "\n",
        "def uqv(filename='./robust-uqv.txt'):\n",
        "    return pd.DataFrame.from_dict(_uqv(filename=filename))\n",
        "\n",
        "def jaccard(ref,compare):\n",
        "    overlap = ref & compare\n",
        "    union = ref.union(compare)\n",
        "    return len(overlap) / len(union)"
      ],
      "metadata": {
        "id": "Jmn6_wYXB_Rp"
      },
      "execution_count": null,
      "outputs": []
    },
    {
      "cell_type": "code",
      "source": [
        "!wget https://culpepper.io/publications/robust-uqv.txt.gz\n",
        "!gzip -d robust-uqv.txt.gz"
      ],
      "metadata": {
        "colab": {
          "base_uri": "https://localhost:8080/"
        },
        "id": "UlDM5aGYCEZO",
        "outputId": "b0805dee-a38e-4e75-efc4-8bd797fb285c"
      },
      "execution_count": null,
      "outputs": [
        {
          "output_type": "stream",
          "name": "stdout",
          "text": [
            "--2023-04-20 17:13:14--  https://culpepper.io/publications/robust-uqv.txt.gz\n",
            "Resolving culpepper.io (culpepper.io)... 45.55.68.112\n",
            "Connecting to culpepper.io (culpepper.io)|45.55.68.112|:443... connected.\n",
            "HTTP request sent, awaiting response... 200 OK\n",
            "Length: 39724 (39K) [application/x-gzip]\n",
            "Saving to: ‘robust-uqv.txt.gz’\n",
            "\n",
            "robust-uqv.txt.gz   100%[===================>]  38.79K  --.-KB/s    in 0.1s    \n",
            "\n",
            "2023-04-20 17:13:14 (327 KB/s) - ‘robust-uqv.txt.gz’ saved [39724/39724]\n",
            "\n"
          ]
        }
      ]
    },
    {
      "cell_type": "code",
      "source": [
        "from ranx import Qrels\n",
        "_qrels = Qrels.from_ir_datasets(\"nyt/trec-core-2017\")\n",
        "qrels = _qrels.to_dict()\n",
        "topics = qrels.keys() \n",
        "\n",
        "df_uqv = uqv()\n",
        "df_uqv_gpt = pd.read_csv('uqv/uqv-core17.txt', names=['qno', 'user', 'qid', 'query']) \n",
        "\n",
        "data = {}\n",
        "\n",
        "for real_user in df_uqv['user'].unique():\n",
        "\n",
        "    _data = {}\n",
        "    \n",
        "    for topic in topics:\n",
        "    \n",
        "        real_queries = list(df_uqv[(df_uqv['topic'] == int(topic)) & (df_uqv['user'] == real_user)]['qstr'])\n",
        "        gpt_queries = list(df_uqv_gpt[df_uqv_gpt['qid'] == int(topic)]['query'])[:len(real_queries)]\n",
        "        _data[topic] = sum([jaccard(set(real), set(gpt)) for real, gpt in zip(real_queries, gpt_queries)]) / len(real_queries)\n",
        "\n",
        "    data[real_user] = _data\n",
        "\n",
        "df = pd.DataFrame.from_dict(data)\n",
        "df.to_csv(\"./jacc.csv\")"
      ],
      "metadata": {
        "id": "Xu8dzJHoCNFs"
      },
      "execution_count": null,
      "outputs": []
    },
    {
      "cell_type": "code",
      "source": [
        "plt.figure(figsize = (18,5))\n",
        "ax = sns.heatmap(df.T, cmap=\"Greens\", vmin=0)\n",
        "ax.set_xlabel(\"Topics\")\n",
        "ax.set_ylabel(\"Users\")\n",
        "plt.title(\"Jaccard Similarity\")\n",
        "plt.savefig(\"jaccard_similarity.pdf\", bbox_inches=\"tight\")\n",
        "plt.show()"
      ],
      "metadata": {
        "colab": {
          "base_uri": "https://localhost:8080/",
          "height": 500
        },
        "id": "qg94A1Y_CPxt",
        "outputId": "5a540781-8ca1-4476-8e9f-7838bab5cf75"
      },
      "execution_count": null,
      "outputs": [
        {
          "output_type": "display_data",
          "data": {
            "text/plain": [
              "<Figure size 1800x500 with 2 Axes>"
            ],
            "image/png": "[encoded data removed]"
          },
          "metadata": {}
        }
      ]
    }
  ]
}