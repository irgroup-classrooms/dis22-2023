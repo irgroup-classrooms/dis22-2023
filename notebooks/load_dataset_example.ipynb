{
 "cells": [
  {
   "attachments": {},
   "cell_type": "markdown",
   "metadata": {},
   "source": [
    "# Example to load the dataset created with the `create-dataset.py` script"
   ]
  },
  {
   "attachments": {},
   "cell_type": "markdown",
   "metadata": {},
   "source": [
    "import nesessary functions"
   ]
  },
  {
   "cell_type": "code",
   "execution_count": 1,
   "metadata": {},
   "outputs": [],
   "source": [
    "from querygpt.utils import read_dataset_jsonl, ds_to_df"
   ]
  },
  {
   "attachments": {},
   "cell_type": "markdown",
   "metadata": {},
   "source": [
    "download the dataset from sciebo"
   ]
  },
  {
   "cell_type": "code",
   "execution_count": 2,
   "metadata": {},
   "outputs": [],
   "source": [
    "path = \"../dataset.jsonl\" # change path according to you filestructure\n",
    "ds = read_dataset_jsonl(path)"
   ]
  },
  {
   "cell_type": "code",
   "execution_count": 3,
   "metadata": {},
   "outputs": [
    {
     "data": {
      "text/html": [
       "<div>\n",
       "<style scoped>\n",
       "    .dataframe tbody tr th:only-of-type {\n",
       "        vertical-align: middle;\n",
       "    }\n",
       "\n",
       "    .dataframe tbody tr th {\n",
       "        vertical-align: top;\n",
       "    }\n",
       "\n",
       "    .dataframe thead th {\n",
       "        text-align: right;\n",
       "    }\n",
       "</style>\n",
       "<table border=\"1\" class=\"dataframe\">\n",
       "  <thead>\n",
       "    <tr style=\"text-align: right;\">\n",
       "      <th></th>\n",
       "      <th>topic</th>\n",
       "      <th>query_id</th>\n",
       "      <th>query</th>\n",
       "      <th>persona</th>\n",
       "    </tr>\n",
       "  </thead>\n",
       "  <tbody>\n",
       "    <tr>\n",
       "      <th>0</th>\n",
       "      <td>Radio Waves and Brain Cance</td>\n",
       "      <td>1</td>\n",
       "      <td>radio waves and cancer</td>\n",
       "      <td>Karen</td>\n",
       "    </tr>\n",
       "    <tr>\n",
       "      <th>1</th>\n",
       "      <td>Radio Waves and Brain Cance</td>\n",
       "      <td>2</td>\n",
       "      <td>radio waves and brain</td>\n",
       "      <td>Karen</td>\n",
       "    </tr>\n",
       "    <tr>\n",
       "      <th>2</th>\n",
       "      <td>Radio Waves and Brain Cance</td>\n",
       "      <td>3</td>\n",
       "      <td>mobile phones and cancer</td>\n",
       "      <td>Karen</td>\n",
       "    </tr>\n",
       "    <tr>\n",
       "      <th>3</th>\n",
       "      <td>Radio Waves and Brain Cance</td>\n",
       "      <td>4</td>\n",
       "      <td>effects of radio waves</td>\n",
       "      <td>Karen</td>\n",
       "    </tr>\n",
       "    <tr>\n",
       "      <th>4</th>\n",
       "      <td>Radio Waves and Brain Cance</td>\n",
       "      <td>5</td>\n",
       "      <td>evidence for link</td>\n",
       "      <td>Karen</td>\n",
       "    </tr>\n",
       "    <tr>\n",
       "      <th>...</th>\n",
       "      <td>...</td>\n",
       "      <td>...</td>\n",
       "      <td>...</td>\n",
       "      <td>...</td>\n",
       "    </tr>\n",
       "    <tr>\n",
       "      <th>960</th>\n",
       "      <td>college education advantage</td>\n",
       "      <td>1</td>\n",
       "      <td>College education benefits</td>\n",
       "      <td>Edith</td>\n",
       "    </tr>\n",
       "    <tr>\n",
       "      <th>961</th>\n",
       "      <td>college education advantage</td>\n",
       "      <td>2</td>\n",
       "      <td>College education income impact</td>\n",
       "      <td>Edith</td>\n",
       "    </tr>\n",
       "    <tr>\n",
       "      <th>962</th>\n",
       "      <td>college education advantage</td>\n",
       "      <td>3</td>\n",
       "      <td>College education job prospects</td>\n",
       "      <td>Edith</td>\n",
       "    </tr>\n",
       "    <tr>\n",
       "      <th>963</th>\n",
       "      <td>college education advantage</td>\n",
       "      <td>4</td>\n",
       "      <td>College education advantages</td>\n",
       "      <td>Edith</td>\n",
       "    </tr>\n",
       "    <tr>\n",
       "      <th>964</th>\n",
       "      <td>college education advantage</td>\n",
       "      <td>5</td>\n",
       "      <td>College education job opportunities</td>\n",
       "      <td>Edith</td>\n",
       "    </tr>\n",
       "  </tbody>\n",
       "</table>\n",
       "<p>965 rows × 4 columns</p>\n",
       "</div>"
      ],
      "text/plain": [
       "                           topic query_id  \\\n",
       "0    Radio Waves and Brain Cance        1   \n",
       "1    Radio Waves and Brain Cance        2   \n",
       "2    Radio Waves and Brain Cance        3   \n",
       "3    Radio Waves and Brain Cance        4   \n",
       "4    Radio Waves and Brain Cance        5   \n",
       "..                           ...      ...   \n",
       "960  college education advantage        1   \n",
       "961  college education advantage        2   \n",
       "962  college education advantage        3   \n",
       "963  college education advantage        4   \n",
       "964  college education advantage        5   \n",
       "\n",
       "                                   query persona  \n",
       "0                 radio waves and cancer   Karen  \n",
       "1                  radio waves and brain   Karen  \n",
       "2               mobile phones and cancer   Karen  \n",
       "3                 effects of radio waves   Karen  \n",
       "4                      evidence for link   Karen  \n",
       "..                                   ...     ...  \n",
       "960           College education benefits   Edith  \n",
       "961      College education income impact   Edith  \n",
       "962      College education job prospects   Edith  \n",
       "963         College education advantages   Edith  \n",
       "964  College education job opportunities   Edith  \n",
       "\n",
       "[965 rows x 4 columns]"
      ]
     },
     "execution_count": 3,
     "metadata": {},
     "output_type": "execute_result"
    }
   ],
   "source": [
    "ds_to_df(ds)"
   ]
  },
  {
   "cell_type": "code",
   "execution_count": null,
   "metadata": {},
   "outputs": [],
   "source": []
  }
 ],
 "metadata": {
  "kernelspec": {
   "display_name": ".venv",
   "language": "python",
   "name": "python3"
  },
  "language_info": {
   "codemirror_mode": {
    "name": "ipython",
    "version": 3
   },
   "file_extension": ".py",
   "mimetype": "text/x-python",
   "name": "python",
   "nbconvert_exporter": "python",
   "pygments_lexer": "ipython3",
   "version": "3.11.1"
  },
  "orig_nbformat": 4
 },
 "nbformat": 4,
 "nbformat_minor": 2
}
