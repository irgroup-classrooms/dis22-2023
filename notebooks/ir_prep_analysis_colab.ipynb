{
  "nbformat": 4,
  "nbformat_minor": 0,
  "metadata": {
    "colab": {
      "provenance": []
    },
    "kernelspec": {
      "name": "python3",
      "display_name": "Python 3"
    },
    "language_info": {
      "name": "python"
    }
  },
  "cells": [
    {
      "cell_type": "markdown",
      "source": [
        "## IR Analysis of Personas"
      ],
      "metadata": {
        "id": "72JnyMFtf3kR"
      }
    },
    {
      "cell_type": "code",
      "execution_count": 1,
      "metadata": {
        "colab": {
          "base_uri": "https://localhost:8080/",
          "height": 424
        },
        "id": "zB_3JhpAfnrF",
        "outputId": "4c67a807-20bf-4718-b837-57cae6e95068"
      },
      "outputs": [
        {
          "output_type": "execute_result",
          "data": {
            "text/plain": [
              "      qno    user  qid                                      query\n",
              "0       1   edith    1                                radio waves\n",
              "1       2   edith    1                               brain cancer\n",
              "2       3   edith    1  incidence brain cancer general population\n",
              "3       4   edith    1        incidence brain cancer radio towers\n",
              "4       5   edith    1       incidence brain cancer mobile phones\n",
              "...   ...     ...  ...                                        ...\n",
              "1921    6  markus   49                college attendance benefits\n",
              "1922    7  markus   49            college education job prospects\n",
              "1923    8  markus   49                  college degree advantages\n",
              "1924    9  markus   49            college education income impact\n",
              "1925   10  markus   49                    college education value\n",
              "\n",
              "[1926 rows x 4 columns]"
            ],
            "text/html": [
              "\n",
              "  <div id=\"df-2ffc30e6-0b86-4a70-a631-6947a20a5740\">\n",
              "    <div class=\"colab-df-container\">\n",
              "      <div>\n",
              "<style scoped>\n",
              "    .dataframe tbody tr th:only-of-type {\n",
              "        vertical-align: middle;\n",
              "    }\n",
              "\n",
              "    .dataframe tbody tr th {\n",
              "        vertical-align: top;\n",
              "    }\n",
              "\n",
              "    .dataframe thead th {\n",
              "        text-align: right;\n",
              "    }\n",
              "</style>\n",
              "<table border=\"1\" class=\"dataframe\">\n",
              "  <thead>\n",
              "    <tr style=\"text-align: right;\">\n",
              "      <th></th>\n",
              "      <th>qno</th>\n",
              "      <th>user</th>\n",
              "      <th>qid</th>\n",
              "      <th>query</th>\n",
              "    </tr>\n",
              "  </thead>\n",
              "  <tbody>\n",
              "    <tr>\n",
              "      <th>0</th>\n",
              "      <td>1</td>\n",
              "      <td>edith</td>\n",
              "      <td>1</td>\n",
              "      <td>radio waves</td>\n",
              "    </tr>\n",
              "    <tr>\n",
              "      <th>1</th>\n",
              "      <td>2</td>\n",
              "      <td>edith</td>\n",
              "      <td>1</td>\n",
              "      <td>brain cancer</td>\n",
              "    </tr>\n",
              "    <tr>\n",
              "      <th>2</th>\n",
              "      <td>3</td>\n",
              "      <td>edith</td>\n",
              "      <td>1</td>\n",
              "      <td>incidence brain cancer general population</td>\n",
              "    </tr>\n",
              "    <tr>\n",
              "      <th>3</th>\n",
              "      <td>4</td>\n",
              "      <td>edith</td>\n",
              "      <td>1</td>\n",
              "      <td>incidence brain cancer radio towers</td>\n",
              "    </tr>\n",
              "    <tr>\n",
              "      <th>4</th>\n",
              "      <td>5</td>\n",
              "      <td>edith</td>\n",
              "      <td>1</td>\n",
              "      <td>incidence brain cancer mobile phones</td>\n",
              "    </tr>\n",
              "    <tr>\n",
              "      <th>...</th>\n",
              "      <td>...</td>\n",
              "      <td>...</td>\n",
              "      <td>...</td>\n",
              "      <td>...</td>\n",
              "    </tr>\n",
              "    <tr>\n",
              "      <th>1921</th>\n",
              "      <td>6</td>\n",
              "      <td>markus</td>\n",
              "      <td>49</td>\n",
              "      <td>college attendance benefits</td>\n",
              "    </tr>\n",
              "    <tr>\n",
              "      <th>1922</th>\n",
              "      <td>7</td>\n",
              "      <td>markus</td>\n",
              "      <td>49</td>\n",
              "      <td>college education job prospects</td>\n",
              "    </tr>\n",
              "    <tr>\n",
              "      <th>1923</th>\n",
              "      <td>8</td>\n",
              "      <td>markus</td>\n",
              "      <td>49</td>\n",
              "      <td>college degree advantages</td>\n",
              "    </tr>\n",
              "    <tr>\n",
              "      <th>1924</th>\n",
              "      <td>9</td>\n",
              "      <td>markus</td>\n",
              "      <td>49</td>\n",
              "      <td>college education income impact</td>\n",
              "    </tr>\n",
              "    <tr>\n",
              "      <th>1925</th>\n",
              "      <td>10</td>\n",
              "      <td>markus</td>\n",
              "      <td>49</td>\n",
              "      <td>college education value</td>\n",
              "    </tr>\n",
              "  </tbody>\n",
              "</table>\n",
              "<p>1926 rows × 4 columns</p>\n",
              "</div>\n",
              "      <button class=\"colab-df-convert\" onclick=\"convertToInteractive('df-2ffc30e6-0b86-4a70-a631-6947a20a5740')\"\n",
              "              title=\"Convert this dataframe to an interactive table.\"\n",
              "              style=\"display:none;\">\n",
              "        \n",
              "  <svg xmlns=\"http://www.w3.org/2000/svg\" height=\"24px\"viewBox=\"0 0 24 24\"\n",
              "       width=\"24px\">\n",
              "    <path d=\"M0 0h24v24H0V0z\" fill=\"none\"/>\n",
              "    <path d=\"M18.56 5.44l.94 2.06.94-2.06 2.06-.94-2.06-.94-.94-2.06-.94 2.06-2.06.94zm-11 1L8.5 8.5l.94-2.06 2.06-.94-2.06-.94L8.5 2.5l-.94 2.06-2.06.94zm10 10l.94 2.06.94-2.06 2.06-.94-2.06-.94-.94-2.06-.94 2.06-2.06.94z\"/><path d=\"M17.41 7.96l-1.37-1.37c-.4-.4-.92-.59-1.43-.59-.52 0-1.04.2-1.43.59L10.3 9.45l-7.72 7.72c-.78.78-.78 2.05 0 2.83L4 21.41c.39.39.9.59 1.41.59.51 0 1.02-.2 1.41-.59l7.78-7.78 2.81-2.81c.8-.78.8-2.07 0-2.86zM5.41 20L4 18.59l7.72-7.72 1.47 1.35L5.41 20z\"/>\n",
              "  </svg>\n",
              "      </button>\n",
              "      \n",
              "  <style>\n",
              "    .colab-df-container {\n",
              "      display:flex;\n",
              "      flex-wrap:wrap;\n",
              "      gap: 12px;\n",
              "    }\n",
              "\n",
              "    .colab-df-convert {\n",
              "      background-color: #E8F0FE;\n",
              "      border: none;\n",
              "      border-radius: 50%;\n",
              "      cursor: pointer;\n",
              "      display: none;\n",
              "      fill: #1967D2;\n",
              "      height: 32px;\n",
              "      padding: 0 0 0 0;\n",
              "      width: 32px;\n",
              "    }\n",
              "\n",
              "    .colab-df-convert:hover {\n",
              "      background-color: #E2EBFA;\n",
              "      box-shadow: 0px 1px 2px rgba(60, 64, 67, 0.3), 0px 1px 3px 1px rgba(60, 64, 67, 0.15);\n",
              "      fill: #174EA6;\n",
              "    }\n",
              "\n",
              "    [theme=dark] .colab-df-convert {\n",
              "      background-color: #3B4455;\n",
              "      fill: #D2E3FC;\n",
              "    }\n",
              "\n",
              "    [theme=dark] .colab-df-convert:hover {\n",
              "      background-color: #434B5C;\n",
              "      box-shadow: 0px 1px 3px 1px rgba(0, 0, 0, 0.15);\n",
              "      filter: drop-shadow(0px 1px 2px rgba(0, 0, 0, 0.3));\n",
              "      fill: #FFFFFF;\n",
              "    }\n",
              "  </style>\n",
              "\n",
              "      <script>\n",
              "        const buttonEl =\n",
              "          document.querySelector('#df-2ffc30e6-0b86-4a70-a631-6947a20a5740 button.colab-df-convert');\n",
              "        buttonEl.style.display =\n",
              "          google.colab.kernel.accessAllowed ? 'block' : 'none';\n",
              "\n",
              "        async function convertToInteractive(key) {\n",
              "          const element = document.querySelector('#df-2ffc30e6-0b86-4a70-a631-6947a20a5740');\n",
              "          const dataTable =\n",
              "            await google.colab.kernel.invokeFunction('convertToInteractive',\n",
              "                                                     [key], {});\n",
              "          if (!dataTable) return;\n",
              "\n",
              "          const docLinkHtml = 'Like what you see? Visit the ' +\n",
              "            '<a target=\"_blank\" href=https://colab.research.google.com/notebooks/data_table.ipynb>data table notebook</a>'\n",
              "            + ' to learn more about interactive tables.';\n",
              "          element.innerHTML = '';\n",
              "          dataTable['output_type'] = 'display_data';\n",
              "          await google.colab.output.renderOutput(dataTable, element);\n",
              "          const docLink = document.createElement('div');\n",
              "          docLink.innerHTML = docLinkHtml;\n",
              "          element.appendChild(docLink);\n",
              "        }\n",
              "      </script>\n",
              "    </div>\n",
              "  </div>\n",
              "  "
            ]
          },
          "metadata": {},
          "execution_count": 1
        }
      ],
      "source": [
        "import pandas as pd\n",
        "persona_queries = pd.read_csv(\"drive/MyDrive/ChatGPT/4_personas_topics_1-50.csv\")\n",
        "\n",
        "persona_queries = persona_queries.drop(\"Unnamed: 0\", axis = 1).rename(columns = {\"index\": \"qno\", \"persona\": \"user\", \"topic\": \"qid\", \"queries\": \"query\"})\n",
        "persona_queries = persona_queries[[\"qno\", \"user\", \"qid\", \"query\"]]\n",
        "uqv = persona_queries\n",
        "uqv"
      ]
    },
    {
      "cell_type": "code",
      "source": [
        "!pip install python-terrier"
      ],
      "metadata": {
        "id": "wEu1hyBYoHPG"
      },
      "execution_count": null,
      "outputs": []
    },
    {
      "cell_type": "code",
      "source": [
        "!pip install ranx"
      ],
      "metadata": {
        "id": "gD1RWJ_YoVqV"
      },
      "execution_count": null,
      "outputs": []
    },
    {
      "cell_type": "code",
      "source": [
        "!pip install repro-eval"
      ],
      "metadata": {
        "id": "WhOPi7n4ocGh"
      },
      "execution_count": null,
      "outputs": []
    },
    {
      "cell_type": "code",
      "source": [
        "!wget https://th-koeln.sciebo.de/s/Agvx4PoLN3oCkZh/download -O ./drive/MyDrive/ChatGPT/index.tar.xz"
      ],
      "metadata": {
        "id": "lOR15XMSzTxd"
      },
      "execution_count": null,
      "outputs": []
    },
    {
      "cell_type": "code",
      "source": [
        "!tar -xf ./drive/MyDrive/ChatGPT/index.tar.xz -C ./drive/MyDrive/ChatGPT/"
      ],
      "metadata": {
        "id": "MUosfLcjzXe1"
      },
      "execution_count": null,
      "outputs": []
    },
    {
      "cell_type": "code",
      "source": [
        "import os\n",
        "# valid for google colab\n",
        "os.environ[\"JAVA_HOME\"] = \"/usr/lib/jvm/java-11-openjdk-amd64\"\n",
        "\n",
        "import pyterrier as pt\n",
        "if not pt.started():\n",
        "    pt.init()\n",
        "    \n",
        "\n",
        "from ranx import Qrels, Run, evaluate, compare, fuse, optimize_fusion\n",
        "    \n",
        "dataset = pt.get_dataset('irds:nyt/trec-core-2017')\n",
        "\n",
        "#needs to be adjusted to own system\n",
        "index_ref = pt.IndexRef.of(\"./drive/MyDrive/ChatGPT/nyt\")#('./index/nyt') \n",
        "\n",
        "qrels = Qrels.from_ir_datasets(\"nyt/trec-core-2017\")"
      ],
      "metadata": {
        "colab": {
          "base_uri": "https://localhost:8080/"
        },
        "id": "XntsL2Jk4CK4",
        "outputId": "756690cc-cfdd-412e-bea1-e8628a09b769"
      },
      "execution_count": 2,
      "outputs": [
        {
          "output_type": "stream",
          "name": "stderr",
          "text": [
            "PyTerrier 0.9.2 has loaded Terrier 5.7 (built by craigm on 2022-11-10 18:30) and terrier-helper 0.0.7\n",
            "\n"
          ]
        }
      ]
    },
    {
      "cell_type": "markdown",
      "source": [
        "Replacing the qid with the correct one matching the qrels data. "
      ],
      "metadata": {
        "id": "xSg-w9bPX4qe"
      }
    },
    {
      "cell_type": "code",
      "source": [
        "look_up_ids = dataset.get_topics()[\"qid\"].reset_index().rename(columns = {\"index\":\"topic\"})\n",
        "look_up_ids[\"topic\"] = look_up_ids[\"topic\"].astype(float)"
      ],
      "metadata": {
        "colab": {
          "base_uri": "https://localhost:8080/"
        },
        "id": "mjPWKw0yPEqf",
        "outputId": "8691407f-981b-4ccf-8e59-80fb48a02789"
      },
      "execution_count": 3,
      "outputs": [
        {
          "output_type": "stream",
          "name": "stdout",
          "text": [
            "There are multiple query fields available: ('title', 'description', 'narrative'). To use with pyterrier, provide variant or modify dataframe to add query column.\n"
          ]
        }
      ]
    },
    {
      "cell_type": "markdown",
      "source": [
        "Also replacing special characters within the persona queries, otherwise the following error occurs:\n",
        "\n",
        "```\n",
        "JavaException: JVM exception occurred: Failed to process qid 423 'Milosevic's wife nickname' -- Lexical error at line 1, column 10.  Encountered: \"\\'\" (39), after : \"\" org.terrier.querying.parser.QueryParserException\n",
        "```"
      ],
      "metadata": {
        "id": "iVDK8ZjnxOcz"
      }
    },
    {
      "cell_type": "code",
      "source": [
        "uqv = uqv.merge(look_up_ids, how = \"left\", left_on = \"qid\", right_on = \"topic\").rename(columns = {\"qid_y\": \"qid\"}).drop(labels = [\"qid_x\", \"topic\"], axis = \"columns\")\n",
        "uqv = uqv[[\"qno\", \"user\", \"qid\", \"query\"]]\n",
        "uqv[\"query\"] = uqv[\"query\"].replace(to_replace = \"'\", value = \"\", regex = True)\n",
        "uqv"
      ],
      "metadata": {
        "colab": {
          "base_uri": "https://localhost:8080/",
          "height": 424
        },
        "id": "aHe7wtp3Nva1",
        "outputId": "d3b2ac84-a67f-4955-dce7-27d006c7f8a6"
      },
      "execution_count": 4,
      "outputs": [
        {
          "output_type": "execute_result",
          "data": {
            "text/plain": [
              "      qno    user  qid                                      query\n",
              "0       1   edith  310                                radio waves\n",
              "1       2   edith  310                               brain cancer\n",
              "2       3   edith  310  incidence brain cancer general population\n",
              "3       4   edith  310        incidence brain cancer radio towers\n",
              "4       5   edith  310       incidence brain cancer mobile phones\n",
              "...   ...     ...  ...                                        ...\n",
              "1921    6  markus  690                college attendance benefits\n",
              "1922    7  markus  690            college education job prospects\n",
              "1923    8  markus  690                  college degree advantages\n",
              "1924    9  markus  690            college education income impact\n",
              "1925   10  markus  690                    college education value\n",
              "\n",
              "[1926 rows x 4 columns]"
            ],
            "text/html": [
              "\n",
              "  <div id=\"df-8f4e3053-9db2-4709-bc21-bfc4520b9193\">\n",
              "    <div class=\"colab-df-container\">\n",
              "      <div>\n",
              "<style scoped>\n",
              "    .dataframe tbody tr th:only-of-type {\n",
              "        vertical-align: middle;\n",
              "    }\n",
              "\n",
              "    .dataframe tbody tr th {\n",
              "        vertical-align: top;\n",
              "    }\n",
              "\n",
              "    .dataframe thead th {\n",
              "        text-align: right;\n",
              "    }\n",
              "</style>\n",
              "<table border=\"1\" class=\"dataframe\">\n",
              "  <thead>\n",
              "    <tr style=\"text-align: right;\">\n",
              "      <th></th>\n",
              "      <th>qno</th>\n",
              "      <th>user</th>\n",
              "      <th>qid</th>\n",
              "      <th>query</th>\n",
              "    </tr>\n",
              "  </thead>\n",
              "  <tbody>\n",
              "    <tr>\n",
              "      <th>0</th>\n",
              "      <td>1</td>\n",
              "      <td>edith</td>\n",
              "      <td>310</td>\n",
              "      <td>radio waves</td>\n",
              "    </tr>\n",
              "    <tr>\n",
              "      <th>1</th>\n",
              "      <td>2</td>\n",
              "      <td>edith</td>\n",
              "      <td>310</td>\n",
              "      <td>brain cancer</td>\n",
              "    </tr>\n",
              "    <tr>\n",
              "      <th>2</th>\n",
              "      <td>3</td>\n",
              "      <td>edith</td>\n",
              "      <td>310</td>\n",
              "      <td>incidence brain cancer general population</td>\n",
              "    </tr>\n",
              "    <tr>\n",
              "      <th>3</th>\n",
              "      <td>4</td>\n",
              "      <td>edith</td>\n",
              "      <td>310</td>\n",
              "      <td>incidence brain cancer radio towers</td>\n",
              "    </tr>\n",
              "    <tr>\n",
              "      <th>4</th>\n",
              "      <td>5</td>\n",
              "      <td>edith</td>\n",
              "      <td>310</td>\n",
              "      <td>incidence brain cancer mobile phones</td>\n",
              "    </tr>\n",
              "    <tr>\n",
              "      <th>...</th>\n",
              "      <td>...</td>\n",
              "      <td>...</td>\n",
              "      <td>...</td>\n",
              "      <td>...</td>\n",
              "    </tr>\n",
              "    <tr>\n",
              "      <th>1921</th>\n",
              "      <td>6</td>\n",
              "      <td>markus</td>\n",
              "      <td>690</td>\n",
              "      <td>college attendance benefits</td>\n",
              "    </tr>\n",
              "    <tr>\n",
              "      <th>1922</th>\n",
              "      <td>7</td>\n",
              "      <td>markus</td>\n",
              "      <td>690</td>\n",
              "      <td>college education job prospects</td>\n",
              "    </tr>\n",
              "    <tr>\n",
              "      <th>1923</th>\n",
              "      <td>8</td>\n",
              "      <td>markus</td>\n",
              "      <td>690</td>\n",
              "      <td>college degree advantages</td>\n",
              "    </tr>\n",
              "    <tr>\n",
              "      <th>1924</th>\n",
              "      <td>9</td>\n",
              "      <td>markus</td>\n",
              "      <td>690</td>\n",
              "      <td>college education income impact</td>\n",
              "    </tr>\n",
              "    <tr>\n",
              "      <th>1925</th>\n",
              "      <td>10</td>\n",
              "      <td>markus</td>\n",
              "      <td>690</td>\n",
              "      <td>college education value</td>\n",
              "    </tr>\n",
              "  </tbody>\n",
              "</table>\n",
              "<p>1926 rows × 4 columns</p>\n",
              "</div>\n",
              "      <button class=\"colab-df-convert\" onclick=\"convertToInteractive('df-8f4e3053-9db2-4709-bc21-bfc4520b9193')\"\n",
              "              title=\"Convert this dataframe to an interactive table.\"\n",
              "              style=\"display:none;\">\n",
              "        \n",
              "  <svg xmlns=\"http://www.w3.org/2000/svg\" height=\"24px\"viewBox=\"0 0 24 24\"\n",
              "       width=\"24px\">\n",
              "    <path d=\"M0 0h24v24H0V0z\" fill=\"none\"/>\n",
              "    <path d=\"M18.56 5.44l.94 2.06.94-2.06 2.06-.94-2.06-.94-.94-2.06-.94 2.06-2.06.94zm-11 1L8.5 8.5l.94-2.06 2.06-.94-2.06-.94L8.5 2.5l-.94 2.06-2.06.94zm10 10l.94 2.06.94-2.06 2.06-.94-2.06-.94-.94-2.06-.94 2.06-2.06.94z\"/><path d=\"M17.41 7.96l-1.37-1.37c-.4-.4-.92-.59-1.43-.59-.52 0-1.04.2-1.43.59L10.3 9.45l-7.72 7.72c-.78.78-.78 2.05 0 2.83L4 21.41c.39.39.9.59 1.41.59.51 0 1.02-.2 1.41-.59l7.78-7.78 2.81-2.81c.8-.78.8-2.07 0-2.86zM5.41 20L4 18.59l7.72-7.72 1.47 1.35L5.41 20z\"/>\n",
              "  </svg>\n",
              "      </button>\n",
              "      \n",
              "  <style>\n",
              "    .colab-df-container {\n",
              "      display:flex;\n",
              "      flex-wrap:wrap;\n",
              "      gap: 12px;\n",
              "    }\n",
              "\n",
              "    .colab-df-convert {\n",
              "      background-color: #E8F0FE;\n",
              "      border: none;\n",
              "      border-radius: 50%;\n",
              "      cursor: pointer;\n",
              "      display: none;\n",
              "      fill: #1967D2;\n",
              "      height: 32px;\n",
              "      padding: 0 0 0 0;\n",
              "      width: 32px;\n",
              "    }\n",
              "\n",
              "    .colab-df-convert:hover {\n",
              "      background-color: #E2EBFA;\n",
              "      box-shadow: 0px 1px 2px rgba(60, 64, 67, 0.3), 0px 1px 3px 1px rgba(60, 64, 67, 0.15);\n",
              "      fill: #174EA6;\n",
              "    }\n",
              "\n",
              "    [theme=dark] .colab-df-convert {\n",
              "      background-color: #3B4455;\n",
              "      fill: #D2E3FC;\n",
              "    }\n",
              "\n",
              "    [theme=dark] .colab-df-convert:hover {\n",
              "      background-color: #434B5C;\n",
              "      box-shadow: 0px 1px 3px 1px rgba(0, 0, 0, 0.15);\n",
              "      filter: drop-shadow(0px 1px 2px rgba(0, 0, 0, 0.3));\n",
              "      fill: #FFFFFF;\n",
              "    }\n",
              "  </style>\n",
              "\n",
              "      <script>\n",
              "        const buttonEl =\n",
              "          document.querySelector('#df-8f4e3053-9db2-4709-bc21-bfc4520b9193 button.colab-df-convert');\n",
              "        buttonEl.style.display =\n",
              "          google.colab.kernel.accessAllowed ? 'block' : 'none';\n",
              "\n",
              "        async function convertToInteractive(key) {\n",
              "          const element = document.querySelector('#df-8f4e3053-9db2-4709-bc21-bfc4520b9193');\n",
              "          const dataTable =\n",
              "            await google.colab.kernel.invokeFunction('convertToInteractive',\n",
              "                                                     [key], {});\n",
              "          if (!dataTable) return;\n",
              "\n",
              "          const docLinkHtml = 'Like what you see? Visit the ' +\n",
              "            '<a target=\"_blank\" href=https://colab.research.google.com/notebooks/data_table.ipynb>data table notebook</a>'\n",
              "            + ' to learn more about interactive tables.';\n",
              "          element.innerHTML = '';\n",
              "          dataTable['output_type'] = 'display_data';\n",
              "          await google.colab.output.renderOutput(dataTable, element);\n",
              "          const docLink = document.createElement('div');\n",
              "          docLink.innerHTML = docLinkHtml;\n",
              "          element.appendChild(docLink);\n",
              "        }\n",
              "      </script>\n",
              "    </div>\n",
              "  </div>\n",
              "  "
            ]
          },
          "metadata": {},
          "execution_count": 4
        }
      ]
    },
    {
      "cell_type": "markdown",
      "source": [
        "The dataset contains more topics than we are currently take into account, therefore we need to slice the dataset to match our topics."
      ],
      "metadata": {
        "id": "7ZvzHt7eZZ_K"
      }
    },
    {
      "cell_type": "code",
      "source": [
        "list_qid_personas = uqv[\"qid\"].unique().tolist()\n",
        "dataset_sliced = dataset.get_topics('title')[dataset.get_topics('title')[\"qid\"].isin(list_qid_personas)]"
      ],
      "metadata": {
        "id": "-PJ-HMZT0JKO"
      },
      "execution_count": 5,
      "outputs": []
    },
    {
      "cell_type": "markdown",
      "source": [
        "For some topics, less than 10 queries were produced, they need to be removed from the datasets, otherwise compiling the results is not working"
      ],
      "metadata": {
        "id": "dtgnnVxyDjMX"
      }
    },
    {
      "cell_type": "code",
      "source": [
        "qid_to_remove = []\n",
        "\n",
        "for i in list_qid_personas:\n",
        "  for name in uqv[\"user\"].unique():\n",
        "    if uqv[(uqv[\"user\"] == name) & (uqv[\"qid\"] == i)].shape[0] == 10:\n",
        "      pass\n",
        "    else:\n",
        "      qid_to_remove.append(i)\n",
        "      print(name, i)\n",
        "\n",
        "qid_to_remove = set(qid_to_remove)\n",
        "print(qid_to_remove)\n",
        "\n",
        "dataset_sliced_revised = dataset_sliced[~dataset_sliced[\"qid\"].isin(qid_to_remove)]\n",
        "uqv_revised = uqv[~uqv[\"qid\"].isin(qid_to_remove)]"
      ],
      "metadata": {
        "colab": {
          "base_uri": "https://localhost:8080/"
        },
        "id": "vyFnAcu84cPU",
        "outputId": "be934af2-e36c-489a-f88c-77bcb95a5742"
      },
      "execution_count": 6,
      "outputs": [
        {
          "output_type": "stream",
          "name": "stdout",
          "text": [
            "john 400\n",
            "edith 416\n",
            "john 416\n",
            "karen 416\n",
            "markus 416\n",
            "edith 677\n",
            "john 677\n",
            "{'416', '677', '400'}\n"
          ]
        }
      ]
    },
    {
      "cell_type": "code",
      "source": [
        "bm25 = pt.BatchRetrieve(index_ref, wmodel='BM25')\n",
        "# slicing of dataset needs to be adjusted depending on the persona queries\n",
        "baseline = bm25(dataset_sliced_revised)\n",
        "pt.io.write_results(baseline, 'baseline', format='trec', append=False)\n",
        "baseline_ranx = Run.from_file('baseline', kind='trec')\n",
        "baseline_ranx.name = 'BM25'"
      ],
      "metadata": {
        "id": "zVdTH_Et4IqN"
      },
      "execution_count": 7,
      "outputs": []
    },
    {
      "cell_type": "code",
      "source": [
        "run_dict = {}\n",
        "\n",
        "for name in ['edith', 'john', 'karen', 'markus']:\n",
        "\n",
        "  runs = []\n",
        "\n",
        "  for i in range(1, 11):\n",
        "\n",
        "    queries = uqv_revised[(uqv_revised['user'] == name) & (uqv_revised['qno']==i)][['qid', 'query']]\n",
        "\n",
        "    pt.io.write_results(bm25(queries), 'bm25_'+name, format='trec', append=False)\n",
        "    runs.append(Run.from_file('bm25_'+name, kind='trec'))\n",
        "\n",
        "  run_dict[name] = runs"
      ],
      "metadata": {
        "id": "498QkFI44lfu"
      },
      "execution_count": 187,
      "outputs": []
    },
    {
      "cell_type": "code",
      "source": [
        "edith_ranx = Run.from_file('bm25_edith', kind='trec')\n",
        "edith_ranx.name = 'Edith'\n",
        "\n",
        "john_ranx = Run.from_file('bm25_john', kind='trec')\n",
        "john_ranx.name = 'John'\n",
        "\n",
        "karen_ranx = Run.from_file('bm25_karen', kind='trec')\n",
        "karen_ranx.name = 'Karen'\n",
        "\n",
        "markus_ranx = Run.from_file('bm25_markus', kind='trec')\n",
        "markus_ranx.name = 'Markus'"
      ],
      "metadata": {
        "id": "C5B5yMpQMW8y"
      },
      "execution_count": 8,
      "outputs": []
    },
    {
      "cell_type": "markdown",
      "source": [
        "It only works if they have the same ids and also the same number. So if only working with partly results for personas, the qrels must be sliced to the same sample."
      ],
      "metadata": {
        "id": "YUkdUJHgVWTN"
      }
    },
    {
      "cell_type": "code",
      "source": [
        "import ir_datasets\n",
        "qrels_dataset = ir_datasets.load(\"nyt/trec-core-2017\").qrels_dict()\n",
        "\n",
        "qrels_dataset_sub = {}\n",
        "for id in edith_ranx.get_query_ids():\n",
        "  qrels_dataset_sub[id] = qrels_dataset[id]"
      ],
      "metadata": {
        "id": "ySy8ORbVbAok"
      },
      "execution_count": 9,
      "outputs": []
    },
    {
      "cell_type": "code",
      "source": [
        "report = compare(\n",
        "    qrels=Qrels.from_dict(qrels_dataset_sub),\n",
        "    runs=[baseline_ranx, edith_ranx, john_ranx, karen_ranx, markus_ranx],\n",
        "    metrics=[\"ndcg\", \"map\", \"precision@10\", \"bpref\"],\n",
        "    max_p=0.05  \n",
        ")\n",
        "\n",
        "report"
      ],
      "metadata": {
        "colab": {
          "base_uri": "https://localhost:8080/"
        },
        "id": "QvCZZrZKf6_Q",
        "outputId": "7f69b99b-e766-4f86-e55b-a835ad9fe9d4"
      },
      "execution_count": 10,
      "outputs": [
        {
          "output_type": "execute_result",
          "data": {
            "text/plain": [
              "#    Model    NDCG       MAP        P@10      BPref\n",
              "---  -------  ---------  ---------  --------  -------\n",
              "a    BM25     0.414ᵇᶜᵈᵉ  0.184ᵇᶜᵈᵉ  0.454ᶜᵈᵉ  0.261ᶜᵉ\n",
              "b    Edith    0.325      0.131      0.376     0.239\n",
              "c    John     0.318      0.118      0.317     0.222\n",
              "d    Karen    0.317      0.122      0.307     0.230\n",
              "e    Markus   0.293      0.112      0.304     0.213"
            ]
          },
          "metadata": {},
          "execution_count": 10
        }
      ]
    },
    {
      "cell_type": "code",
      "source": [
        "import matplotlib.pyplot as plt\n",
        "import seaborn as sns \n",
        "sns.set_style('darkgrid')\n",
        "\n",
        "delta = pd.DataFrame.from_dict(edith_ranx.scores) - pd.DataFrame.from_dict(baseline_ranx.scores) \n",
        "ax = delta['ndcg'].sort_values(ascending=False).plot(figsize=(12,4), kind='bar')\n",
        "ax.set_xlabel(\"Topics\")\n",
        "ax.set_ylabel('$\\Delta$ nDCG')\n",
        "plt.title(\"Edith vs. Baseline\")\n",
        "plt.show()"
      ],
      "metadata": {
        "colab": {
          "base_uri": "https://localhost:8080/",
          "height": 423
        },
        "id": "Wb5AF-7xQoAv",
        "outputId": "935fd216-4571-4d6e-9654-7ed230382734"
      },
      "execution_count": 11,
      "outputs": [
        {
          "output_type": "display_data",
          "data": {
            "text/plain": [
              "<Figure size 1200x400 with 1 Axes>"
            ],
            "image/png": "[encoded data removed]"
          },
          "metadata": {}
        }
      ]
    },
    {
      "cell_type": "code",
      "source": [
        "results_df = pd.DataFrame()\n",
        "\n",
        "for name in ['edith', 'john', 'karen', 'markus']:\n",
        "  df_temp_1 = pd.DataFrame.from_dict(eval(name + \"_ranx.scores\")) - pd.DataFrame.from_dict(baseline_ranx.scores)\n",
        "  df_temp_1 = df_temp_1.reset_index(names = \"qid\")\n",
        "  df_temp_2 = pd.DataFrame({\"name\": [name]})\n",
        "\n",
        "  df_temp = df_temp_1.join(df_temp_2, how = \"cross\")\n",
        "  results_df = pd.concat([results_df, df_temp], axis = \"index\")\n",
        "\n",
        "results_df"
      ],
      "metadata": {
        "colab": {
          "base_uri": "https://localhost:8080/",
          "height": 424
        },
        "id": "d1BWY9AsMiR7",
        "outputId": "02524db5-d6c8-47fe-acb6-2233cc81b1b9"
      },
      "execution_count": 12,
      "outputs": [
        {
          "output_type": "execute_result",
          "data": {
            "text/plain": [
              "    qid      ndcg       map  precision@10     bpref    name\n",
              "0   310  0.032594  0.024633           0.3  0.002310   edith\n",
              "1   321 -0.062458 -0.085266           0.0 -0.006780   edith\n",
              "2   325  0.032756  0.038799           0.2  0.083260   edith\n",
              "3   330 -0.446091 -0.078958          -0.2 -0.097382   edith\n",
              "4   336 -0.205252 -0.246066          -0.3 -0.057751   edith\n",
              "..  ...       ...       ...           ...       ...     ...\n",
              "41  614 -0.439499 -0.413801          -0.9 -0.435367  markus\n",
              "42  620 -0.102601 -0.211946          -0.4 -0.131344  markus\n",
              "43  626 -0.250607 -0.190734          -0.3 -0.065443  markus\n",
              "44  646 -0.050618  0.021424           0.0  0.090679  markus\n",
              "45  690 -0.040632 -0.003442           0.0  0.047574  markus\n",
              "\n",
              "[184 rows x 6 columns]"
            ],
            "text/html": [
              "\n",
              "  <div id=\"df-85730525-702e-439f-93b7-b27b21f22d4b\">\n",
              "    <div class=\"colab-df-container\">\n",
              "      <div>\n",
              "<style scoped>\n",
              "    .dataframe tbody tr th:only-of-type {\n",
              "        vertical-align: middle;\n",
              "    }\n",
              "\n",
              "    .dataframe tbody tr th {\n",
              "        vertical-align: top;\n",
              "    }\n",
              "\n",
              "    .dataframe thead th {\n",
              "        text-align: right;\n",
              "    }\n",
              "</style>\n",
              "<table border=\"1\" class=\"dataframe\">\n",
              "  <thead>\n",
              "    <tr style=\"text-align: right;\">\n",
              "      <th></th>\n",
              "      <th>qid</th>\n",
              "      <th>ndcg</th>\n",
              "      <th>map</th>\n",
              "      <th>precision@10</th>\n",
              "      <th>bpref</th>\n",
              "      <th>name</th>\n",
              "    </tr>\n",
              "  </thead>\n",
              "  <tbody>\n",
              "    <tr>\n",
              "      <th>0</th>\n",
              "      <td>310</td>\n",
              "      <td>0.032594</td>\n",
              "      <td>0.024633</td>\n",
              "      <td>0.3</td>\n",
              "      <td>0.002310</td>\n",
              "      <td>edith</td>\n",
              "    </tr>\n",
              "    <tr>\n",
              "      <th>1</th>\n",
              "      <td>321</td>\n",
              "      <td>-0.062458</td>\n",
              "      <td>-0.085266</td>\n",
              "      <td>0.0</td>\n",
              "      <td>-0.006780</td>\n",
              "      <td>edith</td>\n",
              "    </tr>\n",
              "    <tr>\n",
              "      <th>2</th>\n",
              "      <td>325</td>\n",
              "      <td>0.032756</td>\n",
              "      <td>0.038799</td>\n",
              "      <td>0.2</td>\n",
              "      <td>0.083260</td>\n",
              "      <td>edith</td>\n",
              "    </tr>\n",
              "    <tr>\n",
              "      <th>3</th>\n",
              "      <td>330</td>\n",
              "      <td>-0.446091</td>\n",
              "      <td>-0.078958</td>\n",
              "      <td>-0.2</td>\n",
              "      <td>-0.097382</td>\n",
              "      <td>edith</td>\n",
              "    </tr>\n",
              "    <tr>\n",
              "      <th>4</th>\n",
              "      <td>336</td>\n",
              "      <td>-0.205252</td>\n",
              "      <td>-0.246066</td>\n",
              "      <td>-0.3</td>\n",
              "      <td>-0.057751</td>\n",
              "      <td>edith</td>\n",
              "    </tr>\n",
              "    <tr>\n",
              "      <th>...</th>\n",
              "      <td>...</td>\n",
              "      <td>...</td>\n",
              "      <td>...</td>\n",
              "      <td>...</td>\n",
              "      <td>...</td>\n",
              "      <td>...</td>\n",
              "    </tr>\n",
              "    <tr>\n",
              "      <th>41</th>\n",
              "      <td>614</td>\n",
              "      <td>-0.439499</td>\n",
              "      <td>-0.413801</td>\n",
              "      <td>-0.9</td>\n",
              "      <td>-0.435367</td>\n",
              "      <td>markus</td>\n",
              "    </tr>\n",
              "    <tr>\n",
              "      <th>42</th>\n",
              "      <td>620</td>\n",
              "      <td>-0.102601</td>\n",
              "      <td>-0.211946</td>\n",
              "      <td>-0.4</td>\n",
              "      <td>-0.131344</td>\n",
              "      <td>markus</td>\n",
              "    </tr>\n",
              "    <tr>\n",
              "      <th>43</th>\n",
              "      <td>626</td>\n",
              "      <td>-0.250607</td>\n",
              "      <td>-0.190734</td>\n",
              "      <td>-0.3</td>\n",
              "      <td>-0.065443</td>\n",
              "      <td>markus</td>\n",
              "    </tr>\n",
              "    <tr>\n",
              "      <th>44</th>\n",
              "      <td>646</td>\n",
              "      <td>-0.050618</td>\n",
              "      <td>0.021424</td>\n",
              "      <td>0.0</td>\n",
              "      <td>0.090679</td>\n",
              "      <td>markus</td>\n",
              "    </tr>\n",
              "    <tr>\n",
              "      <th>45</th>\n",
              "      <td>690</td>\n",
              "      <td>-0.040632</td>\n",
              "      <td>-0.003442</td>\n",
              "      <td>0.0</td>\n",
              "      <td>0.047574</td>\n",
              "      <td>markus</td>\n",
              "    </tr>\n",
              "  </tbody>\n",
              "</table>\n",
              "<p>184 rows × 6 columns</p>\n",
              "</div>\n",
              "      <button class=\"colab-df-convert\" onclick=\"convertToInteractive('df-85730525-702e-439f-93b7-b27b21f22d4b')\"\n",
              "              title=\"Convert this dataframe to an interactive table.\"\n",
              "              style=\"display:none;\">\n",
              "        \n",
              "  <svg xmlns=\"http://www.w3.org/2000/svg\" height=\"24px\"viewBox=\"0 0 24 24\"\n",
              "       width=\"24px\">\n",
              "    <path d=\"M0 0h24v24H0V0z\" fill=\"none\"/>\n",
              "    <path d=\"M18.56 5.44l.94 2.06.94-2.06 2.06-.94-2.06-.94-.94-2.06-.94 2.06-2.06.94zm-11 1L8.5 8.5l.94-2.06 2.06-.94-2.06-.94L8.5 2.5l-.94 2.06-2.06.94zm10 10l.94 2.06.94-2.06 2.06-.94-2.06-.94-.94-2.06-.94 2.06-2.06.94z\"/><path d=\"M17.41 7.96l-1.37-1.37c-.4-.4-.92-.59-1.43-.59-.52 0-1.04.2-1.43.59L10.3 9.45l-7.72 7.72c-.78.78-.78 2.05 0 2.83L4 21.41c.39.39.9.59 1.41.59.51 0 1.02-.2 1.41-.59l7.78-7.78 2.81-2.81c.8-.78.8-2.07 0-2.86zM5.41 20L4 18.59l7.72-7.72 1.47 1.35L5.41 20z\"/>\n",
              "  </svg>\n",
              "      </button>\n",
              "      \n",
              "  <style>\n",
              "    .colab-df-container {\n",
              "      display:flex;\n",
              "      flex-wrap:wrap;\n",
              "      gap: 12px;\n",
              "    }\n",
              "\n",
              "    .colab-df-convert {\n",
              "      background-color: #E8F0FE;\n",
              "      border: none;\n",
              "      border-radius: 50%;\n",
              "      cursor: pointer;\n",
              "      display: none;\n",
              "      fill: #1967D2;\n",
              "      height: 32px;\n",
              "      padding: 0 0 0 0;\n",
              "      width: 32px;\n",
              "    }\n",
              "\n",
              "    .colab-df-convert:hover {\n",
              "      background-color: #E2EBFA;\n",
              "      box-shadow: 0px 1px 2px rgba(60, 64, 67, 0.3), 0px 1px 3px 1px rgba(60, 64, 67, 0.15);\n",
              "      fill: #174EA6;\n",
              "    }\n",
              "\n",
              "    [theme=dark] .colab-df-convert {\n",
              "      background-color: #3B4455;\n",
              "      fill: #D2E3FC;\n",
              "    }\n",
              "\n",
              "    [theme=dark] .colab-df-convert:hover {\n",
              "      background-color: #434B5C;\n",
              "      box-shadow: 0px 1px 3px 1px rgba(0, 0, 0, 0.15);\n",
              "      filter: drop-shadow(0px 1px 2px rgba(0, 0, 0, 0.3));\n",
              "      fill: #FFFFFF;\n",
              "    }\n",
              "  </style>\n",
              "\n",
              "      <script>\n",
              "        const buttonEl =\n",
              "          document.querySelector('#df-85730525-702e-439f-93b7-b27b21f22d4b button.colab-df-convert');\n",
              "        buttonEl.style.display =\n",
              "          google.colab.kernel.accessAllowed ? 'block' : 'none';\n",
              "\n",
              "        async function convertToInteractive(key) {\n",
              "          const element = document.querySelector('#df-85730525-702e-439f-93b7-b27b21f22d4b');\n",
              "          const dataTable =\n",
              "            await google.colab.kernel.invokeFunction('convertToInteractive',\n",
              "                                                     [key], {});\n",
              "          if (!dataTable) return;\n",
              "\n",
              "          const docLinkHtml = 'Like what you see? Visit the ' +\n",
              "            '<a target=\"_blank\" href=https://colab.research.google.com/notebooks/data_table.ipynb>data table notebook</a>'\n",
              "            + ' to learn more about interactive tables.';\n",
              "          element.innerHTML = '';\n",
              "          dataTable['output_type'] = 'display_data';\n",
              "          await google.colab.output.renderOutput(dataTable, element);\n",
              "          const docLink = document.createElement('div');\n",
              "          docLink.innerHTML = docLinkHtml;\n",
              "          element.appendChild(docLink);\n",
              "        }\n",
              "      </script>\n",
              "    </div>\n",
              "  </div>\n",
              "  "
            ]
          },
          "metadata": {},
          "execution_count": 12
        }
      ]
    },
    {
      "cell_type": "code",
      "source": [
        "ax = results_df[[\"qid\",\"ndcg\",\"name\"]].groupby([\"qid\",\"name\"]).agg(\"sum\").unstack().plot(figsize=(12,8), kind='bar', subplots = True)\n",
        "#ax.set_xlabel(\"Topics\")\n",
        "#ax.set_ylabel('$\\Delta$ nDCG')\n",
        "#plt.title(\"Personas vs. Baseline\")\n",
        "plt.show()"
      ],
      "metadata": {
        "colab": {
          "base_uri": "https://localhost:8080/",
          "height": 731
        },
        "id": "mNvzLD06UM2T",
        "outputId": "8bf4493b-59fc-45f0-f47b-5c4112f7512b"
      },
      "execution_count": 14,
      "outputs": [
        {
          "output_type": "display_data",
          "data": {
            "text/plain": [
              "<Figure size 1200x800 with 4 Axes>"
            ],
            "image/png": "[encoded data removed]"
          },
          "metadata": {}
        }
      ]
    }
  ]
}