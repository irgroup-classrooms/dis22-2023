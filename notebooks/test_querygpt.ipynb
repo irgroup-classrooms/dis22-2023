{
 "cells": [
  {
   "cell_type": "code",
   "execution_count": 2,
   "metadata": {},
   "outputs": [
    {
     "name": "stdout",
     "output_type": "stream",
     "text": [
      "Defaulting to user installation because normal site-packages is not writeable\n",
      "Processing /home/laura/Dokumente/dis22-2023/QueryGPT\n",
      "  Installing build dependencies ... \u001b[?25ldone\n",
      "\u001b[?25h  Getting requirements to build wheel ... \u001b[?25ldone\n",
      "\u001b[?25h  Preparing metadata (pyproject.toml) ... \u001b[?25ldone\n",
      "\u001b[?25hBuilding wheels for collected packages: querygpt\n",
      "  Building wheel for querygpt (pyproject.toml) ... \u001b[?25ldone\n",
      "\u001b[?25h  Created wheel for querygpt: filename=querygpt-0.0.1-py3-none-any.whl size=7807 sha256=fa27eae4673ce0106f46d20573df27d1094ec829a9bed2d53f1a10b7052712f8\n",
      "  Stored in directory: /tmp/pip-ephem-wheel-cache-ebpokk66/wheels/5e/c1/40/23fba64f43d0ab4b66ff9795059371155654e894979a7573c0\n",
      "Successfully built querygpt\n",
      "Installing collected packages: querygpt\n",
      "  Attempting uninstall: querygpt\n",
      "    Found existing installation: querygpt 0.0.1\n",
      "    Uninstalling querygpt-0.0.1:\n",
      "      Successfully uninstalled querygpt-0.0.1\n",
      "Successfully installed querygpt-0.0.1\n",
      "Note: you may need to restart the kernel to use updated packages.\n"
     ]
    }
   ],
   "source": [
    "pip install ../QueryGPT/"
   ]
  },
  {
   "cell_type": "code",
   "execution_count": 3,
   "metadata": {},
   "outputs": [],
   "source": [
    "from querygpt.model import Query, Persona"
   ]
  },
  {
   "attachments": {},
   "cell_type": "markdown",
   "metadata": {},
   "source": [
    "## Persona selection"
   ]
  },
  {
   "attachments": {},
   "cell_type": "markdown",
   "metadata": {},
   "source": [
    "to use generate queries with this package we first need to select a persona to use. We can choose to add our own Persona or just load a persona from the register.  \n",
    "To add a persona we can just plug in the values to the `Persona class`"
   ]
  },
  {
   "cell_type": "code",
   "execution_count": 4,
   "metadata": {},
   "outputs": [],
   "source": [
    "jason = Persona(\n",
    "    name=\"Jason\",\n",
    "    age=4,\n",
    "    gender=\"male\",\n",
    "    job=\"child\",\n",
    "    goal=\"find something funny online\",\n",
    "    residence=\"paris\",\n",
    "    query_length=4,\n",
    "    complexity=None\n",
    ")"
   ]
  },
  {
   "attachments": {},
   "cell_type": "markdown",
   "metadata": {},
   "source": [
    "For now we are only going to load a persona from the register. This will give us all possible personas from the register."
   ]
  },
  {
   "cell_type": "code",
   "execution_count": 5,
   "metadata": {},
   "outputs": [
    {
     "data": {
      "text/plain": [
       "['john', 'karen', 'markus', 'edith']"
      ]
     },
     "execution_count": 5,
     "metadata": {},
     "output_type": "execute_result"
    }
   ],
   "source": [
    "Persona.list_register()"
   ]
  },
  {
   "attachments": {},
   "cell_type": "markdown",
   "metadata": {},
   "source": [
    "To select a Persona simply use the following function."
   ]
  },
  {
   "cell_type": "code",
   "execution_count": 6,
   "metadata": {},
   "outputs": [],
   "source": [
    "person = Persona.from_register(\"john\")"
   ]
  },
  {
   "attachments": {},
   "cell_type": "markdown",
   "metadata": {},
   "source": [
    "alternitavely a persona can also be loaded from a `.json` file with the `Persona.from_json()` method. The json file should look something like this:\n",
    "```\n",
    "{\n",
    "    \"name\": \"Edith\",\n",
    "    \"age\": 75,\n",
    "    \"gender\": \"female\",\n",
    "    \"job\": \"retired\",\n",
    "    \"goal\": \"researching background information\",\n",
    "    \"residence\": \"suburbs of san diego\",\n",
    "    \"query_length\": 4,\n",
    "    \"complexity\": null\n",
    "}\n",
    "\n",
    "```"
   ]
  },
  {
   "attachments": {},
   "cell_type": "markdown",
   "metadata": {},
   "source": [
    "## Query selection"
   ]
  },
  {
   "attachments": {},
   "cell_type": "markdown",
   "metadata": {},
   "source": [
    "After selecting a Persona we will need to build our query. As for the Personas we can also from a handfull of variants to load in the QueryTypes.  \n",
    "- Query.select_query_type  --> loads from the register\n",
    "- Query.add_custom_query_from_file --> loads from a text file\n",
    "- Query.add_custom_query_from_folder --> loads from a folder containing text files\n",
    "- Query.add_queries --> adds a query from a string and a QueryType name"
   ]
  },
  {
   "cell_type": "code",
   "execution_count": 7,
   "metadata": {},
   "outputs": [],
   "source": [
    "q = Query()"
   ]
  },
  {
   "attachments": {},
   "cell_type": "markdown",
   "metadata": {},
   "source": [
    "We will first look at how to add your own query and then load one from the register."
   ]
  },
  {
   "cell_type": "code",
   "execution_count": 8,
   "metadata": {},
   "outputs": [],
   "source": [
    "query = \"\"\"\n",
    "\n",
    "Example query for $PERSONA_NAME.\n",
    "\n",
    "\"\"\"\n",
    "q.add_queries(\"EXAMPLE\", query)"
   ]
  },
  {
   "attachments": {},
   "cell_type": "markdown",
   "metadata": {},
   "source": [
    "Now when we load all possible QueryTypes notice how there is one called `EXAMPLE`."
   ]
  },
  {
   "cell_type": "code",
   "execution_count": 9,
   "metadata": {},
   "outputs": [
    {
     "data": {
      "text/plain": [
       "dict_keys(['QUERY', 'QUERY_EXAMPLE', 'QUERY_NO_EXAMPLE', 'EXAMPLE'])"
      ]
     },
     "execution_count": 9,
     "metadata": {},
     "output_type": "execute_result"
    }
   ],
   "source": [
    "q.list_query_types()"
   ]
  },
  {
   "cell_type": "code",
   "execution_count": 10,
   "metadata": {},
   "outputs": [
    {
     "name": "stdout",
     "output_type": "stream",
     "text": [
      "Selected query type: QUERY_NO_EXAMPLE\n"
     ]
    }
   ],
   "source": [
    "q.select_querie_type(\"QUERY_NO_EXAMPLE\")"
   ]
  },
  {
   "cell_type": "code",
   "execution_count": 11,
   "metadata": {},
   "outputs": [
    {
     "name": "stdout",
     "output_type": "stream",
     "text": [
      "Selected persona: Mr. John Doe\n"
     ]
    }
   ],
   "source": [
    "q.select_persona(person)"
   ]
  },
  {
   "cell_type": "code",
   "execution_count": 12,
   "metadata": {},
   "outputs": [
    {
     "name": "stdout",
     "output_type": "stream",
     "text": [
      "$PERSONA_JOB not found in query. Skipping attribute.\n",
      "Attribute complexity not replaced because its value is None. Please use .manual_replace(parameter, attribute) to supply it.\n",
      "Unused parameters in query: ['$PERSONA_PROFESSION', '$PERSONA_COMPLEXITY'] Please use .manual_replace(parameter, attribute) to supply them.\n"
     ]
    }
   ],
   "source": [
    "q.try_query_mappings()"
   ]
  },
  {
   "cell_type": "code",
   "execution_count": 13,
   "metadata": {},
   "outputs": [],
   "source": [
    "q.manual_replace(\"$PERSONA_PROFESSION\", \"lawyer\")\n",
    "q.manual_replace(\"$PERSONA_COMPLEXITY\", \"professional english\")"
   ]
  },
  {
   "cell_type": "code",
   "execution_count": 14,
   "metadata": {},
   "outputs": [
    {
     "data": {
      "text/plain": [
       "'I want you to formulate queries about a specific topic. When writing the queries write them in the style of Mr. John Doe who wants to identify relevant document for the specific topic, to fulfill their goal of inform about legal inquiries. \\nWhen creating the queries think of what Mr. John Doe is interested in given their profession lawyer. What information does Mr. John Doe need to fulfill their goal of inform about legal inquiries?. \\nMake sure the queries are as realistic as possible. That means that when writing the queries use words that are realistic given that Mr. John Doe is 55 years old. \\nAlso add here roughly to the length of 4 words, as it would be unrealistic for Mr. John Doe to write different length queries. \\nConsider that Mr. John Doe is from new york if the topic can have a relation to new york. Formulate your words professional english. When writing the Queries also remember that Mr. John Doe is male. \\nFormat the queries as a python dictionary. Write them with the following steps:\\n\\n1. (keywords): Identify important keywords that fit to what Mr. John Doe needs to know to reach their goal of inform about legal inquiries about the topic. Remember that the topic itself is not a keyword but has to appear in all queries and do not find more than 3 keywords!!\\n2. (Questions):  Try to formulate questions that are as realistic as possible given the description of Mr. John Doe and the topic. Use the keywords to formulate the questions. Remember that the topic itself is not a keyword but has to appear in all queries!!\\n3. (Queries): Rewrite the questions and consider that they have to fit roughly into 4 words and that they’re not formulated as a question and without a question mark. Remeber that each query has to speak for itself. \\n\\nUse the following framework for the dictionary: \\n\\n{\\n\"keywords\": [\"keyword 1\", \"keyword 2\", \"keyword 3\"],\\n\"questions\" : {\\n1 : \"question 1\", \\n2: \"question 2\", \\n... ; ..., \\nn : \"question n\"\\n},\\n\"queries\" : {\\n1 : \"querie 1\", \\n2 : \"querie 2\", \\n... : ...,\\nn :  \"querie n\"\\n}\\n}\\n'"
      ]
     },
     "execution_count": 14,
     "metadata": {},
     "output_type": "execute_result"
    }
   ],
   "source": [
    "q.query"
   ]
  },
  {
   "attachments": {},
   "cell_type": "markdown",
   "metadata": {},
   "source": [
    "Now we load in the core nist topics"
   ]
  },
  {
   "cell_type": "code",
   "execution_count": 15,
   "metadata": {},
   "outputs": [],
   "source": [
    "import json\n",
    "core_nist = json.load(open(\"../QueryGPT/core_nist.json\"))"
   ]
  },
  {
   "cell_type": "code",
   "execution_count": 16,
   "metadata": {},
   "outputs": [
    {
     "data": {
      "text/plain": [
       "{'title': 'New Hydroelectric Project',\n",
       " 'desc': 'Identify hydroelectric projects proposed or under construction by country and location. Detailed description of nature, extent, purpose, problems, and consequences is desirable.',\n",
       " 'narr': 'Relevant documents would contain as a minimum a clear statement that a hydroelectric project is planned or construction is under way and the location of the project. Renovation of existing facilities would be judged not relevant unless plans call for a significant increase in acre-feet or reservoir or a marked change in the environmental impact of the project. Arguments for and against proposed projects are relevant as long as they are supported by specifics, including as a minimum the name or location of the project. A statement that an individual or organization is for or against such projects in general would not be relevant. Proposals or projects underway to dismantle existing facilities or drain existing reservoirs are not relevant, nor are articles reporting a decision to drop a proposed plan.',\n",
       " 'topic_id': 307}"
      ]
     },
     "execution_count": 16,
     "metadata": {},
     "output_type": "execute_result"
    }
   ],
   "source": [
    "nist = core_nist[0]\n",
    "nist"
   ]
  },
  {
   "attachments": {},
   "cell_type": "markdown",
   "metadata": {},
   "source": [
    "We now use the core nist topic to generate a query for the specific persona + query. `narrative` and `description` are both optional. `n_queries` defaults to 5."
   ]
  },
  {
   "cell_type": "code",
   "execution_count": 17,
   "metadata": {},
   "outputs": [
    {
     "name": "stdout",
     "output_type": "stream",
     "text": [
      "I want you to formulate queries about a specific topic. When writing the queries write them in the style of Mr. John Doe who wants to identify relevant document for the specific topic, to fulfill their goal of inform about legal inquiries. \n",
      "When creating the queries think of what Mr. John Doe is interested in given their profession lawyer. What information does Mr. John Doe need to fulfill their goal of inform about legal inquiries?. \n",
      "Make sure the queries are as realistic as possible. That means that when writing the queries use words that are realistic given that Mr. John Doe is 55 years old. \n",
      "Also add here roughly to the length of 4 words, as it would be unrealistic for Mr. John Doe to write different length queries. \n",
      "Consider that Mr. John Doe is from new york if the topic can have a relation to new york. Formulate your words professional english. When writing the Queries also remember that Mr. John Doe is male. \n",
      "Format the queries as a python dictionary. Write them with the following steps:\n",
      "\n",
      "1. (keywords): Identify important keywords that fit to what Mr. John Doe needs to know to reach their goal of inform about legal inquiries about the topic. Remember that the topic itself is not a keyword but has to appear in all queries and do not find more than 3 keywords!!\n",
      "2. (Questions):  Try to formulate questions that are as realistic as possible given the description of Mr. John Doe and the topic. Use the keywords to formulate the questions. Remember that the topic itself is not a keyword but has to appear in all queries!!\n",
      "3. (Queries): Rewrite the questions and consider that they have to fit roughly into 4 words and that they’re not formulated as a question and without a question mark. Remeber that each query has to speak for itself. \n",
      "\n",
      "Use the following framework for the dictionary: \n",
      "\n",
      "{\n",
      "\"keywords\": [\"keyword 1\", \"keyword 2\", \"keyword 3\"],\n",
      "\"questions\" : {\n",
      "1 : \"question 1\", \n",
      "2: \"question 2\", \n",
      "... ; ..., \n",
      "n : \"question n\"\n",
      "},\n",
      "\"queries\" : {\n",
      "1 : \"querie 1\", \n",
      "2 : \"querie 2\", \n",
      "... : ...,\n",
      "n :  \"querie n\"\n",
      "}\n",
      "}\n",
      "\n",
      "Please generate 5 search queries that could have been written by Mr. John Doe to do research on the following\n",
      "Topic: New Hydroelectric Project.\n",
      "Description: Identify hydroelectric projects proposed or under construction by country and location. Detailed description of nature, extent, purpose, problems, and consequences is desirable.\n"
     ]
    }
   ],
   "source": [
    "query = q.generate_query(topic=nist[\"title\"], description=nist[\"desc\"], n_queries=5)\n",
    "print(query)"
   ]
  },
  {
   "cell_type": "code",
   "execution_count": 20,
   "metadata": {},
   "outputs": [],
   "source": [
    "import openai\n",
    "openai.api_key = \"\""
   ]
  },
  {
   "cell_type": "code",
   "execution_count": 21,
   "metadata": {},
   "outputs": [
    {
     "data": {
      "text/plain": [
       "<OpenAIObject at 0x7f6d0219bab0> JSON: {\n",
       "  \"content\": \"{\\n\\\"keywords\\\": [\\\"Hydroelectric\\\", \\\"Project\\\", \\\"Construction\\\"],\\n\\\"questions\\\" : {\\n1 : \\\"What are current hydroelectric projects?\\\",\\n2 : \\\"Where are hydroelectric projects located?\\\",\\n3 : \\\"What are the consequences of hydroelectric projects?\\\"\\n},\\n\\\"queries\\\" : {\\n1 : \\\"Current hydroelectric projects\\\",\\n2 : \\\"Location of hydroelectric projects\\\",\\n3 : \\\"Consequences of hydroelectric projects\\\"\\n}\\n}\\n\\n{\\n\\\"keywords\\\": [\\\"Hydroelectric\\\", \\\"Proposed\\\", \\\"Country\\\"],\\n\\\"questions\\\" : {\\n1 : \\\"What countries have proposed hydroelectric projects?\\\",\\n2 : \\\"What are the proposed hydroelectric projects?\\\",\\n3 : \\\"What is the status of proposed hydroelectric projects?\\\"\\n},\\n\\\"queries\\\" : {\\n1 : \\\"Countries with proposed hydroelectric projects\\\",\\n2 : \\\"Proposed hydroelectric projects\\\",\\n3 : \\\"Status of proposed projects\\\"\\n}\\n}\\n\\n{\\n\\\"keywords\\\": [\\\"Hydroelectric\\\", \\\"Extent\\\", \\\"Nature\\\"],\\n\\\"questions\\\" : {\\n1 : \\\"What is the extent of hydroelectric projects?\\\",\\n2 : \\\"What is the nature of hydroelectric projects?\\\",\\n3 : \\\"What are the benefits of hydroelectric projects?\\\"\\n},\\n\\\"queries\\\" : {\\n1 : \\\"Extent of hydroelectric projects\\\",\\n2 : \\\"Nature of hydroelectric projects\\\",\\n3 : \\\"Benefits of hydroelectric projects\\\"\\n}\\n}\\n\\n{\\n\\\"keywords\\\": [\\\"Hydroelectric\\\", \\\"Purpose\\\", \\\"Problems\\\"],\\n\\\"questions\\\" : {\\n1 : \\\"What is the purpose of hydroelectric projects?\\\",\\n2 : \\\"What are the problems with hydroelectric projects?\\\",\\n3 : \\\"What are the environmental impacts of hydroelectric projects?\\\"\\n},\\n\\\"queries\\\" : {\\n1 : \\\"Purpose of hydroelectric projects\\\",\\n2 : \\\"Problems with hydroelectric projects\\\",\\n3 : \\\"Environmental impacts of hydroelectric projects\\\"\\n}\\n}\\n\\n{\\n\\\"keywords\\\": [\\\"Hydroelectric\\\", \\\"Location\\\", \\\"Consequences\\\"],\\n\\\"questions\\\" : {\\n1 : \\\"Where are hydroelectric projects located?\\\",\\n2 : \\\"What are the consequences of hydroelectric projects?\\\",\\n3 : \\\"What is the impact of hydroelectric projects on local communities?\\\"\\n},\\n\\\"queries\\\" : {\\n1 : \\\"Location of hydroelectric projects\\\",\\n2 : \\\"Consequences of hydroelectric projects\\\",\\n3 : \\\"Impact on local communities\\\"\\n}\\n}\",\n",
       "  \"role\": \"assistant\"\n",
       "}"
      ]
     },
     "execution_count": 21,
     "metadata": {},
     "output_type": "execute_result"
    }
   ],
   "source": [
    "completion = openai.ChatCompletion.create(\n",
    "    model=\"gpt-3.5-turbo\",\n",
    "    messages=[\n",
    "        {\"role\": \"user\", \"content\": query}\n",
    "    ],\n",
    "    temperature=0.2\n",
    "    )\n",
    "\n",
    "completion.choices[0].message"
   ]
  },
  {
   "cell_type": "code",
   "execution_count": 24,
   "metadata": {},
   "outputs": [
    {
     "name": "stdout",
     "output_type": "stream",
     "text": [
      "{\n",
      "\"keywords\": [\"Hydroelectric\", \"Project\", \"Construction\"],\n",
      "\"questions\" : {\n",
      "1 : \"What are current hydroelectric projects?\",\n",
      "2 : \"Where are hydroelectric projects located?\",\n",
      "3 : \"What are the consequences of hydroelectric projects?\"\n",
      "},\n",
      "\"queries\" : {\n",
      "1 : \"Current hydroelectric projects\",\n",
      "2 : \"Location of hydroelectric projects\",\n",
      "3 : \"Consequences of hydroelectric projects\"\n",
      "}\n",
      "}\n",
      "\n",
      "{\n",
      "\"keywords\": [\"Hydroelectric\", \"Proposed\", \"Country\"],\n",
      "\"questions\" : {\n",
      "1 : \"What countries have proposed hydroelectric projects?\",\n",
      "2 : \"What are the proposed hydroelectric projects?\",\n",
      "3 : \"What is the status of proposed hydroelectric projects?\"\n",
      "},\n",
      "\"queries\" : {\n",
      "1 : \"Countries with proposed hydroelectric projects\",\n",
      "2 : \"Proposed hydroelectric projects\",\n",
      "3 : \"Status of proposed projects\"\n",
      "}\n",
      "}\n",
      "\n",
      "{\n",
      "\"keywords\": [\"Hydroelectric\", \"Extent\", \"Nature\"],\n",
      "\"questions\" : {\n",
      "1 : \"What is the extent of hydroelectric projects?\",\n",
      "2 : \"What is the nature of hydroelectric projects?\",\n",
      "3 : \"What are the benefits of hydroelectric projects?\"\n",
      "},\n",
      "\"queries\" : {\n",
      "1 : \"Extent of hydroelectric projects\",\n",
      "2 : \"Nature of hydroelectric projects\",\n",
      "3 : \"Benefits of hydroelectric projects\"\n",
      "}\n",
      "}\n",
      "\n",
      "{\n",
      "\"keywords\": [\"Hydroelectric\", \"Purpose\", \"Problems\"],\n",
      "\"questions\" : {\n",
      "1 : \"What is the purpose of hydroelectric projects?\",\n",
      "2 : \"What are the problems with hydroelectric projects?\",\n",
      "3 : \"What are the environmental impacts of hydroelectric projects?\"\n",
      "},\n",
      "\"queries\" : {\n",
      "1 : \"Purpose of hydroelectric projects\",\n",
      "2 : \"Problems with hydroelectric projects\",\n",
      "3 : \"Environmental impacts of hydroelectric projects\"\n",
      "}\n",
      "}\n",
      "\n",
      "{\n",
      "\"keywords\": [\"Hydroelectric\", \"Location\", \"Consequences\"],\n",
      "\"questions\" : {\n",
      "1 : \"Where are hydroelectric projects located?\",\n",
      "2 : \"What are the consequences of hydroelectric projects?\",\n",
      "3 : \"What is the impact of hydroelectric projects on local communities?\"\n",
      "},\n",
      "\"queries\" : {\n",
      "1 : \"Location of hydroelectric projects\",\n",
      "2 : \"Consequences of hydroelectric projects\",\n",
      "3 : \"Impact on local communities\"\n",
      "}\n",
      "}\n"
     ]
    }
   ],
   "source": [
    "print(completion.choices[0].message.content)"
   ]
  },
  {
   "cell_type": "code",
   "execution_count": 23,
   "metadata": {},
   "outputs": [
    {
     "ename": "SyntaxError",
     "evalue": "invalid syntax (<string>, line 15)",
     "output_type": "error",
     "traceback": [
      "Traceback \u001b[0;36m(most recent call last)\u001b[0m:\n",
      "\u001b[0m  File \u001b[1;32m~/.local/lib/python3.10/site-packages/IPython/core/interactiveshell.py:3433\u001b[0m in \u001b[1;35mrun_code\u001b[0m\n    exec(code_obj, self.user_global_ns, self.user_ns)\u001b[0m\n",
      "\u001b[0;36m  Cell \u001b[0;32mIn [23], line 1\u001b[0;36m\n\u001b[0;31m    answer = eval(completion.choices[0].message.content)\u001b[0;36m\n",
      "\u001b[0;36m  File \u001b[0;32m<string>:15\u001b[0;36m\u001b[0m\n\u001b[0;31m    {\u001b[0m\n\u001b[0m    ^\u001b[0m\n\u001b[0;31mSyntaxError\u001b[0m\u001b[0;31m:\u001b[0m invalid syntax\n"
     ]
    }
   ],
   "source": [
    "answer = eval(completion.choices[0].message.content)"
   ]
  },
  {
   "cell_type": "code",
   "execution_count": null,
   "metadata": {},
   "outputs": [
    {
     "ename": "NameError",
     "evalue": "name 'answer' is not defined",
     "output_type": "error",
     "traceback": [
      "\u001b[0;31m---------------------------------------------------------------------------\u001b[0m",
      "\u001b[0;31mNameError\u001b[0m                                 Traceback (most recent call last)",
      "\u001b[1;32m/home/laura/Dokumente/dis22-2023/notebooks/test_querygpt.ipynb Cell 32\u001b[0m in \u001b[0;36m1\n\u001b[0;32m----> <a href='vscode-notebook-cell:/home/laura/Dokumente/dis22-2023/notebooks/test_querygpt.ipynb#X43sZmlsZQ%3D%3D?line=0'>1</a>\u001b[0m answer\n",
      "\u001b[0;31mNameError\u001b[0m: name 'answer' is not defined"
     ]
    }
   ],
   "source": [
    "answer"
   ]
  }
 ],
 "metadata": {
  "kernelspec": {
   "display_name": ".env",
   "language": "python",
   "name": "python3"
  },
  "language_info": {
   "codemirror_mode": {
    "name": "ipython",
    "version": 3
   },
   "file_extension": ".py",
   "mimetype": "text/x-python",
   "name": "python",
   "nbconvert_exporter": "python",
   "pygments_lexer": "ipython3",
   "version": "3.10.6"
  },
  "orig_nbformat": 4,
  "vscode": {
   "interpreter": {
    "hash": "26894391aff60628a2c038168b5410587063019923ba2d1b3f92233da5590c57"
   }
  }
 },
 "nbformat": 4,
 "nbformat_minor": 2
}
